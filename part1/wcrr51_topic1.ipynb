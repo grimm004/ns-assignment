{
 "cells": [
  {
   "cell_type": "markdown",
   "metadata": {
    "pycharm": {
     "name": "#%% md\n"
    }
   },
   "source": [
    "# Networks and their Structure Assignment\n",
    "\n",
    "## Network Science Topic 1\n",
    "\n",
    "Note that the networks in this exercise are all directed.\n",
    "\n",
    "1. [15 marks] Obtain the code and dataset (under Topic 1 on Learn Ultra) and load the ``citation_graph``.  Two vertices $u$ and $v$ are *connected* in this graph if there is a path from $u$ to $v$ or from $v$ to $u$ (or both).  A *connected component* of the graph is a maximal set of vertices such that each pair of vertices is connected.  How many vertices are there in the largest connected component of the ``citation_graph``?  Let $G$ be the graph formed by the largest connected component of the ``citation_graph`` (that is, obtain $G$ by removing all vertices not in the largest connected component).  Create two plots showing the normalized distributions of the in-degree and out-degree of $G$."
   ]
  },
  {
   "cell_type": "code",
   "execution_count": 51,
   "metadata": {},
   "outputs": [],
   "source": [
    "from typing import Dict, Set, Generator, Optional, Type, Hashable\n",
    "import matplotlib.pyplot as plt\n",
    "\n",
    "Node = Vertex = Hashable\n",
    "Network = Graph = Dict[Node, Set[Node]]"
   ]
  },
  {
   "cell_type": "code",
   "execution_count": 19,
   "metadata": {},
   "outputs": [],
   "source": [
    "def load_graph(filename_: str, type_: Type = int, separator_: str = \" \") -> Graph:\n",
    "    \"\"\"\n",
    "    Load a directed graph from a file.\n",
    "\n",
    "    :param filename_: Name of file to load graph from.\n",
    "    :param type_: Datatype of nodes\n",
    "    :param separator_: Separator string in file\n",
    "    :return: Graph in dict-set format\n",
    "    \"\"\"\n",
    "\n",
    "    graph_: Graph = {}\n",
    "    with open(filename_, \"rt\") as file:\n",
    "        for line in file:\n",
    "            source_, *destinations_ = list(map(type_, line.rstrip().split(separator_)))\n",
    "            graph_[source_] = set(destinations_)\n",
    "    return graph_"
   ]
  },
  {
   "cell_type": "code",
   "execution_count": 20,
   "outputs": [],
   "source": [
    "def bfs(graph_: Graph, start_node_: Node, visited_: Optional[Set[Node]] = None) -> Generator[Node, None, None]:\n",
    "    if visited_ is None:\n",
    "        visited_ = set()\n",
    "\n",
    "    queue_ = [start_node_]\n",
    "\n",
    "    while queue_:\n",
    "        node_ = queue_.pop(0)\n",
    "        visited_.add(node_)\n",
    "\n",
    "        yield node_\n",
    "\n",
    "        for neighbour_ in graph_[node_]:\n",
    "            if neighbour_ not in visited_:\n",
    "                queue_.append(neighbour_)"
   ],
   "metadata": {
    "collapsed": false,
    "pycharm": {
     "name": "#%%\n"
    }
   }
  },
  {
   "cell_type": "code",
   "execution_count": 23,
   "metadata": {},
   "outputs": [],
   "source": [
    "def compute_largest_connected_component(graph_: Graph) -> Set[Node]:\n",
    "    largest_connected_component_: Set[Node] = set()\n",
    "    visited_: Set[Node] = set()\n",
    "    for current_node_ in list(graph_):\n",
    "        if current_node_ not in visited_:\n",
    "            current_connected_component_ = set(bfs(graph_, current_node_, visited_))\n",
    "            if len(current_connected_component_) > len(largest_connected_component_):\n",
    "                largest_connected_component_ = current_connected_component_\n",
    "    return largest_connected_component_"
   ]
  },
  {
   "cell_type": "code",
   "execution_count": 24,
   "outputs": [],
   "source": [
    "citation_graph: Graph = load_graph(\"alg_phys-cite.txt\")"
   ],
   "metadata": {
    "collapsed": false,
    "pycharm": {
     "name": "#%%\n"
    }
   }
  },
  {
   "cell_type": "code",
   "execution_count": 25,
   "outputs": [
    {
     "name": "stdout",
     "output_type": "stream",
     "text": [
      "Number of vertices in the largest connected component: 16055\n"
     ]
    }
   ],
   "source": [
    "largest_connected_component = compute_largest_connected_component(citation_graph)\n",
    "print(f\"Number of vertices in the largest connected component: {len(largest_connected_component)}\")"
   ],
   "metadata": {
    "collapsed": false,
    "pycharm": {
     "name": "#%%\n"
    }
   }
  },
  {
   "cell_type": "code",
   "execution_count": 57,
   "metadata": {},
   "outputs": [],
   "source": [
    "def remove_nodes(graph_: Graph, nodes_: Set[Node]) -> Graph:\n",
    "    return {\n",
    "        node_: neighbours_ - nodes_\n",
    "        for node_, neighbours_ in graph_.items()\n",
    "        if node_ not in nodes_\n",
    "    }\n",
    "\n",
    "\n",
    "def keep_nodes(graph_: Graph, nodes_: Set[Node]) -> Graph:\n",
    "    return {\n",
    "        node_: neighbours_ & nodes_\n",
    "        for node_, neighbours_ in graph_.items()\n",
    "        if node_ in nodes_\n",
    "    }\n",
    "\n",
    "\n",
    "def compute_in_degrees(graph_: Graph) -> Dict[Node, int]:\n",
    "    in_degrees_: Dict[Node, int] = {node_: 0 for node_ in graph_}\n",
    "    for node_ in graph_:\n",
    "        for neighbour_ in graph_[node_]:\n",
    "            in_degrees_[neighbour_] += 1\n",
    "    return in_degrees_\n",
    "\n",
    "\n",
    "def compute_out_degrees(graph_: Graph) -> Dict[Node, int]:\n",
    "    return {node_: len(graph_[node_]) for node_ in graph_}\n",
    "\n",
    "\n",
    "def compute_discrete_distribution(values_: Dict[Node, int]) -> Dict[Node, int]:\n",
    "    distribution_: Dict[Node, int] = {}\n",
    "    for node_ in values_:\n",
    "        if values_[node_] not in distribution_:\n",
    "            distribution_[values_[node_]] = 0\n",
    "        distribution_[values_[node_]] += 1\n",
    "    return distribution_\n",
    "\n",
    "\n",
    "def compute_normalised_distribution(distribution_: Dict[Node, int]) -> Dict[Node, int]:\n",
    "    return {\n",
    "        degree_: distribution_[degree_] / sum(distribution_.values())\n",
    "        for degree_ in distribution_\n",
    "    }"
   ]
  },
  {
   "cell_type": "code",
   "execution_count": 58,
   "outputs": [],
   "source": [
    "g: Graph = keep_nodes(citation_graph, largest_connected_component)"
   ],
   "metadata": {
    "collapsed": false,
    "pycharm": {
     "name": "#%%\n"
    }
   }
  },
  {
   "cell_type": "code",
   "execution_count": 59,
   "outputs": [],
   "source": [
    "in_degree_distribution = compute_discrete_distribution(compute_in_degrees(g))\n",
    "out_degree_distribution = compute_discrete_distribution(compute_out_degrees(g))"
   ],
   "metadata": {
    "collapsed": false,
    "pycharm": {
     "name": "#%%\n"
    }
   }
  },
  {
   "cell_type": "code",
   "execution_count": 62,
   "outputs": [
    {
     "data": {
      "text/plain": "<Figure size 720x720 with 1 Axes>",
      "image/png": "[encoded data removed]"
     },
     "metadata": {
      "needs_background": "light"
     },
     "output_type": "display_data"
    },
    {
     "data": {
      "text/plain": "<Figure size 720x720 with 1 Axes>",
      "image/png": "[encoded data removed]"
     },
     "metadata": {
      "needs_background": "light"
     },
     "output_type": "display_data"
    }
   ],
   "source": [
    "def plot_distribution(\n",
    "        distribution_: Dict[Node, int],\n",
    "        title: str,\n",
    "        xlabel: str,\n",
    "        ylabel: str = \"Normalized Rate\",\n",
    "        filename: Optional[str] = None\n",
    ") -> None:\n",
    "    normalized_distribution = compute_normalised_distribution(distribution_)\n",
    "\n",
    "    # Create arrays for plotting\n",
    "    xdata, ydata = map(list, zip(*normalized_distribution.items()))\n",
    "\n",
    "    # Plot distribution\n",
    "    plt.title(title)\n",
    "    plt.xlabel(xlabel)\n",
    "    plt.ylabel(ylabel)\n",
    "    plt.loglog(xdata, ydata, marker=\".\", linestyle=\"None\", color=\"b\")\n",
    "    if filename:\n",
    "        plt.savefig(filename)\n",
    "    plt.rcParams[\"figure.figsize\"] = (10, 10)\n",
    "    plt.show()\n",
    "\n",
    "\n",
    "plot_distribution(\n",
    "    in_degree_distribution,\n",
    "    \"In-Degree Distribution of Citation Graph\",\n",
    "    \"In-Degree\",\n",
    "    filename=\"citations-in.png\"\n",
    ")\n",
    "\n",
    "plot_distribution(\n",
    "    out_degree_distribution,\n",
    "    \"Out-Degree Distribution of Citation Graph\",\n",
    "    \"Out-Degree\",\n",
    "    filename=\"citations-out.png\"\n",
    ")"
   ],
   "metadata": {
    "collapsed": false,
    "pycharm": {
     "name": "#%%\n"
    }
   }
  },
  {
   "cell_type": "markdown",
   "source": [
    "2. [15 marks] Recall the PA graph model that constructed graphs one vertex at a time.  In this model the out-degrees were all (almost) the same.  Define a version of the model where the out-degree varies in a way that is similar to the distribution found for $G$ in Question 1.  Construct instances of the model and plot the normalized distributions of the in-degree and out-degree and compare them to those of $G$.  (Your model might turn out to be a poor model for $G$.  This does not matter as long as you can motivate your definition and implement it correctly.)"
   ],
   "metadata": {
    "collapsed": false
   }
  },
  {
   "cell_type": "code",
   "execution_count": null,
   "outputs": [],
   "source": [],
   "metadata": {
    "collapsed": false,
    "pycharm": {
     "name": "#%%\n"
    }
   }
  }
 ],
 "metadata": {
  "kernelspec": {
   "display_name": "Python 3",
   "language": "python",
   "name": "python3"
  },
  "language_info": {
   "codemirror_mode": {
    "name": "ipython",
    "version": 3
   },
   "file_extension": ".py",
   "mimetype": "text/x-python",
   "name": "python",
   "nbconvert_exporter": "python",
   "pygments_lexer": "ipython3",
   "version": "3.8.10"
  }
 },
 "nbformat": 4,
 "nbformat_minor": 4
}