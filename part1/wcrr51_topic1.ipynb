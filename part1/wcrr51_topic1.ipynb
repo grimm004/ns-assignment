{
 "cells": [
  {
   "cell_type": "markdown",
   "metadata": {
    "pycharm": {
     "name": "#%% md\n"
    }
   },
   "source": [
    "# Networks and their Structure Assignment\n",
    "\n",
    "## Network Science Topic 1\n",
    "\n",
    "Note that the networks in this exercise are all directed.\n",
    "\n",
    "1. [15 marks] Obtain the code and dataset (under Topic 1 on Learn Ultra) and load the ``citation_graph``.  Two vertices $u$ and $v$ are *connected* in this graph if there is a path from $u$ to $v$ or from $v$ to $u$ (or both).  A *connected component* of the graph is a maximal set of vertices such that each pair of vertices is connected.  How many vertices are there in the largest connected component of the ``citation_graph``?  Let $G$ be the graph formed by the largest connected component of the ``citation_graph`` (that is, obtain $G$ by removing all vertices not in the largest connected component).  Create two plots showing the normalized distributions of the in-degree and out-degree of $G$."
   ]
  },
  {
   "cell_type": "code",
   "execution_count": 12,
   "metadata": {},
   "outputs": [],
   "source": [
    "from typing import Dict, Set, Generator, Optional, Type, Hashable, List\n",
    "import matplotlib.pyplot as plt\n",
    "import tqdm\n",
    "import random\n",
    "\n",
    "Node = Vertex = Hashable\n",
    "Network = Graph = Dict[Node, Set[Node]]"
   ]
  },
  {
   "cell_type": "code",
   "execution_count": 2,
   "metadata": {},
   "outputs": [],
   "source": [
    "def load_graph(filename_: str, type_: Type = int, separator_: str = \" \") -> Graph:\n",
    "    \"\"\"\n",
    "    Load a directed graph from a file.\n",
    "\n",
    "    :param filename_: Name of file to load graph from.\n",
    "    :param type_: Datatype of nodes\n",
    "    :param separator_: Separator string in file\n",
    "    :return: Graph in dict-set format\n",
    "    \"\"\"\n",
    "\n",
    "    graph_: Graph = {}\n",
    "    with open(filename_, \"rt\") as file:\n",
    "        for line in file:\n",
    "            source_, *destinations_ = list(map(type_, line.rstrip().split(separator_)))\n",
    "            graph_[source_] = set(destinations_)\n",
    "    return graph_"
   ]
  },
  {
   "cell_type": "code",
   "execution_count": 3,
   "outputs": [],
   "source": [
    "def bfs(\n",
    "        graph_: Graph,\n",
    "        start_node_: Node\n",
    ") -> Generator[Node, None, None]:\n",
    "    visited_: Set[Node] = {start_node_}\n",
    "    queue_: List[Node] = [start_node_]\n",
    "\n",
    "    while queue_:\n",
    "        node_ = queue_.pop(0)\n",
    "\n",
    "        yield node_\n",
    "\n",
    "        for neighbour_ in graph_[node_]:\n",
    "            if neighbour_ not in visited_:\n",
    "                visited_.add(neighbour_)\n",
    "                queue_.append(neighbour_)"
   ],
   "metadata": {
    "collapsed": false,
    "pycharm": {
     "name": "#%%\n"
    }
   }
  },
  {
   "cell_type": "code",
   "execution_count": 4,
   "metadata": {},
   "outputs": [],
   "source": [
    "def compute_largest_connected_component(graph_: Graph) -> Set[Node]:\n",
    "    largest_connected_component_: Set[Node] = set()\n",
    "    visited_: Set[Node] = set()\n",
    "    for current_node_ in tqdm.tqdm(list(graph_)):\n",
    "        if current_node_ not in visited_:\n",
    "            current_connected_component_ = set(bfs(graph_, current_node_))\n",
    "            visited_.update(current_connected_component_)\n",
    "            if len(current_connected_component_) > len(largest_connected_component_):\n",
    "                largest_connected_component_ = current_connected_component_\n",
    "    return largest_connected_component_"
   ]
  },
  {
   "cell_type": "code",
   "execution_count": 5,
   "outputs": [
    {
     "name": "stdout",
     "output_type": "stream",
     "text": [
      "27770\n"
     ]
    }
   ],
   "source": [
    "citation_graph: Graph = load_graph(\"alg_phys-cite.txt\")\n",
    "\n",
    "print(len(citation_graph))\n",
    "\n",
    "undirected_citation_graph: Graph = {}\n",
    "for node in citation_graph:\n",
    "    if node not in undirected_citation_graph:\n",
    "        undirected_citation_graph[node] = set()\n",
    "\n",
    "    for neighbour in citation_graph[node]:\n",
    "        if neighbour not in undirected_citation_graph:\n",
    "            undirected_citation_graph[neighbour] = set()\n",
    "\n",
    "        undirected_citation_graph[node].add(neighbour)\n",
    "        undirected_citation_graph[neighbour].add(node)"
   ],
   "metadata": {
    "collapsed": false,
    "pycharm": {
     "name": "#%%\n"
    }
   }
  },
  {
   "cell_type": "code",
   "execution_count": 6,
   "outputs": [
    {
     "name": "stderr",
     "output_type": "stream",
     "text": [
      "100%|██████████| 27770/27770 [00:00<00:00, 183908.13it/s]"
     ]
    },
    {
     "name": "stdout",
     "output_type": "stream",
     "text": [
      "Number of vertices in the largest connected component: 27400\n"
     ]
    },
    {
     "name": "stderr",
     "output_type": "stream",
     "text": [
      "\n"
     ]
    }
   ],
   "source": [
    "largest_connected_component = compute_largest_connected_component(undirected_citation_graph)\n",
    "print(f\"Number of vertices in the largest connected component: {len(largest_connected_component)}\")"
   ],
   "metadata": {
    "collapsed": false,
    "pycharm": {
     "name": "#%%\n"
    }
   }
  },
  {
   "cell_type": "code",
   "execution_count": 7,
   "metadata": {},
   "outputs": [],
   "source": [
    "def remove_nodes(graph_: Graph, nodes_: Set[Node]) -> Graph:\n",
    "    return {\n",
    "        node_: neighbours_ - nodes_\n",
    "        for node_, neighbours_ in graph_.items()\n",
    "        if node_ not in nodes_\n",
    "    }\n",
    "\n",
    "\n",
    "def keep_nodes(graph_: Graph, nodes_: Set[Node]) -> Graph:\n",
    "    return {\n",
    "        node_: neighbours_ & nodes_\n",
    "        for node_, neighbours_ in graph_.items()\n",
    "        if node_ in nodes_\n",
    "    }\n",
    "\n",
    "\n",
    "def compute_in_degrees(graph_: Graph) -> Dict[Node, int]:\n",
    "    in_degrees_: Dict[Node, int] = {node_: 0 for node_ in graph_}\n",
    "    for node_ in graph_:\n",
    "        for neighbour_ in graph_[node_]:\n",
    "            in_degrees_[neighbour_] += 1\n",
    "    return in_degrees_\n",
    "\n",
    "\n",
    "def compute_out_degrees(graph_: Graph) -> Dict[Node, int]:\n",
    "    return {node_: len(graph_[node_]) for node_ in graph_}\n",
    "\n",
    "\n",
    "def compute_discrete_distribution(values_: Dict[Node, int]) -> Dict[Node, int]:\n",
    "    distribution_: Dict[Node, int] = {}\n",
    "    for node_ in values_:\n",
    "        if values_[node_] not in distribution_:\n",
    "            distribution_[values_[node_]] = 0\n",
    "        distribution_[values_[node_]] += 1\n",
    "    return distribution_\n",
    "\n",
    "\n",
    "def compute_normalised_distribution(distribution_: Dict[Node, int]) -> Dict[Node, int]:\n",
    "    return {\n",
    "        degree_: distribution_[degree_] / sum(distribution_.values())\n",
    "        for degree_ in distribution_\n",
    "    }"
   ]
  },
  {
   "cell_type": "code",
   "execution_count": 8,
   "outputs": [],
   "source": [
    "g: Graph = keep_nodes(citation_graph, largest_connected_component)"
   ],
   "metadata": {
    "collapsed": false,
    "pycharm": {
     "name": "#%%\n"
    }
   }
  },
  {
   "cell_type": "code",
   "execution_count": 9,
   "outputs": [],
   "source": [
    "in_degree_distribution = compute_discrete_distribution(compute_in_degrees(g))\n",
    "out_degree_distribution = compute_discrete_distribution(compute_out_degrees(g))"
   ],
   "metadata": {
    "collapsed": false,
    "pycharm": {
     "name": "#%%\n"
    }
   }
  },
  {
   "cell_type": "code",
   "execution_count": 25,
   "outputs": [],
   "source": [
    "def plot_distribution(\n",
    "        distribution_: Dict[Node, int],\n",
    "        title: str,\n",
    "        xlabel: str,\n",
    "        ylabel: str = \"Normalized Rate\",\n",
    "        filename: Optional[str] = None\n",
    ") -> None:\n",
    "    normalized_distribution = compute_normalised_distribution(distribution_)\n",
    "\n",
    "    # Create arrays for plotting\n",
    "    xdata, ydata = map(list, zip(*normalized_distribution.items()))\n",
    "\n",
    "    # Plot distribution\n",
    "    plt.clf()\n",
    "    plt.title(title)\n",
    "    plt.xlabel(xlabel)\n",
    "    plt.ylabel(ylabel)\n",
    "    plt.loglog(xdata, ydata, marker=\".\", linestyle=\"None\", color=\"b\")\n",
    "    if filename:\n",
    "        plt.savefig(filename)\n",
    "    plt.rcParams[\"figure.figsize\"] = (10, 10)\n",
    "    plt.show()"
   ],
   "metadata": {
    "collapsed": false,
    "pycharm": {
     "name": "#%%\n"
    }
   }
  },
  {
   "cell_type": "code",
   "execution_count": 26,
   "outputs": [
    {
     "data": {
      "text/plain": "<Figure size 720x720 with 1 Axes>",
      "image/png": "[encoded data removed]"
     },
     "metadata": {
      "needs_background": "light"
     },
     "output_type": "display_data"
    },
    {
     "data": {
      "text/plain": "<Figure size 720x720 with 1 Axes>",
      "image/png": "[encoded data removed]"
     },
     "metadata": {
      "needs_background": "light"
     },
     "output_type": "display_data"
    }
   ],
   "source": [
    "plot_distribution(\n",
    "    in_degree_distribution,\n",
    "    \"In-Degree Distribution of Citation Graph\",\n",
    "    \"In-Degree\",\n",
    "    filename=\"citations-in.png\"\n",
    ")\n",
    "\n",
    "plot_distribution(\n",
    "    out_degree_distribution,\n",
    "    \"Out-Degree Distribution of Citation Graph\",\n",
    "    \"Out-Degree\",\n",
    "    filename=\"citations-out.png\"\n",
    ")"
   ],
   "metadata": {
    "collapsed": false,
    "pycharm": {
     "name": "#%%\n"
    }
   }
  },
  {
   "cell_type": "markdown",
   "source": [
    "2. [15 marks] Recall the PA graph model that constructed graphs one vertex at a time.  In this model the out-degrees were all (almost) the same.  Define a version of the model where the out-degree varies in a way that is similar to the distribution found for $G$ in Question 1.  Construct instances of the model and plot the normalized distributions of the in-degree and out-degree and compare them to those of $G$.  (Your model might turn out to be a poor model for $G$.  This does not matter as long as you can motivate your definition and implement it correctly.)"
   ],
   "metadata": {
    "collapsed": false
   }
  },
  {
   "cell_type": "code",
   "execution_count": 50,
   "outputs": [],
   "source": [
    "# Adapted from topic1_PA_graphs.ipynb\n",
    "\n",
    "class PATrial:\n",
    "    def __init__(self, n_):\n",
    "        self._n = n_\n",
    "        self._node_numbers = [node_ for node_ in range(n_) for _ in range(n_)]\n",
    "\n",
    "    def run_trial(self, n_):\n",
    "        new_node_neighbors_ = set()\n",
    "        for _ in range(n_):\n",
    "            new_node_neighbors_.add(random.choice(self._node_numbers))\n",
    "        self._node_numbers.extend(list(new_node_neighbors_))\n",
    "        self._node_numbers.append(self._n)\n",
    "        self._n += 1\n",
    "        return new_node_neighbors_\n",
    "\n",
    "\n",
    "def make_complete_graph(n_):\n",
    "    complete_graph_ = {}\n",
    "    for vertex_ in range(n_):\n",
    "        complete_graph_[vertex_] = set([j_ for j_ in range(n_) if j_ != vertex_])\n",
    "    return complete_graph_\n",
    "\n",
    "\n",
    "def make_pa_graph(n_, out_degree_):\n",
    "    pa_graph_ = make_complete_graph(out_degree_)\n",
    "    trial = PATrial(out_degree_)\n",
    "    for vertex in range(out_degree_, n_):\n",
    "        pa_graph_[vertex] = trial.run_trial(int(out_degree_))\n",
    "        # Exponentially increase the out degree\n",
    "        out_degree_ *= 1.0001\n",
    "    return pa_graph_"
   ],
   "metadata": {
    "collapsed": false,
    "pycharm": {
     "name": "#%%\n"
    }
   }
  },
  {
   "cell_type": "code",
   "execution_count": 51,
   "outputs": [],
   "source": [
    "pa_graph: Graph = make_pa_graph(len(citation_graph), 10)"
   ],
   "metadata": {
    "collapsed": false,
    "pycharm": {
     "name": "#%%\n"
    }
   }
  },
  {
   "cell_type": "code",
   "execution_count": 52,
   "outputs": [
    {
     "name": "stderr",
     "output_type": "stream",
     "text": [
      "100%|██████████| 27770/27770 [00:18<00:00, 1508.01it/s]"
     ]
    },
    {
     "name": "stdout",
     "output_type": "stream",
     "text": [
      "Number of vertices in the largest connected component: 3853\n"
     ]
    },
    {
     "name": "stderr",
     "output_type": "stream",
     "text": [
      "\n"
     ]
    }
   ],
   "source": [
    "pa_lcc = compute_largest_connected_component(pa_graph)\n",
    "print(f\"Number of vertices in the largest connected component: {len(pa_lcc)}\")"
   ],
   "metadata": {
    "collapsed": false,
    "pycharm": {
     "name": "#%%\n"
    }
   }
  },
  {
   "cell_type": "code",
   "execution_count": 53,
   "outputs": [],
   "source": [
    "pa_g: Graph = keep_nodes(pa_graph, pa_lcc)"
   ],
   "metadata": {
    "collapsed": false,
    "pycharm": {
     "name": "#%%\n"
    }
   }
  },
  {
   "cell_type": "code",
   "execution_count": 54,
   "outputs": [],
   "source": [
    "pa_in_degree_dist = compute_discrete_distribution(compute_in_degrees(pa_g))\n",
    "pa_out_degree_dist = compute_discrete_distribution(compute_out_degrees(pa_g))"
   ],
   "metadata": {
    "collapsed": false,
    "pycharm": {
     "name": "#%%\n"
    }
   }
  },
  {
   "cell_type": "code",
   "execution_count": 55,
   "outputs": [
    {
     "data": {
      "text/plain": "<Figure size 720x720 with 1 Axes>",
      "image/png": "[encoded data removed]"
     },
     "metadata": {
      "needs_background": "light"
     },
     "output_type": "display_data"
    },
    {
     "data": {
      "text/plain": "<Figure size 720x720 with 1 Axes>",
      "image/png": "[encoded data removed]"
     },
     "metadata": {
      "needs_background": "light"
     },
     "output_type": "display_data"
    }
   ],
   "source": [
    "plot_distribution(\n",
    "    pa_in_degree_dist,\n",
    "    \"In-Degree Distribution of Citation Graph\",\n",
    "    \"In-Degree\",\n",
    "    filename=\"citations-in.png\"\n",
    ")\n",
    "\n",
    "plot_distribution(\n",
    "    pa_out_degree_dist,\n",
    "    \"Out-Degree Distribution of Citation Graph\",\n",
    "    \"Out-Degree\",\n",
    "    filename=\"citations-out.png\"\n",
    ")"
   ],
   "metadata": {
    "collapsed": false,
    "pycharm": {
     "name": "#%%\n"
    }
   }
  },
  {
   "cell_type": "markdown",
   "source": [
    "Here, as the graph is generated, the out-degree is exponentially increased for nodes beyond those in the initial complete graph.\n",
    "In practice, this generates an out-degree distribution very similar to that in $G$, except for the decreasing normalised rate below an out degree of 10 (below the initial complete graph)."
   ],
   "metadata": {
    "collapsed": false
   }
  }
 ],
 "metadata": {
  "kernelspec": {
   "display_name": "Python 3",
   "language": "python",
   "name": "python3"
  },
  "language_info": {
   "codemirror_mode": {
    "name": "ipython",
    "version": 3
   },
   "file_extension": ".py",
   "mimetype": "text/x-python",
   "name": "python",
   "nbconvert_exporter": "python",
   "pygments_lexer": "ipython3",
   "version": "3.8.10"
  }
 },
 "nbformat": 4,
 "nbformat_minor": 4
}