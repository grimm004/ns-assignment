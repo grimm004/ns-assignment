{
 "cells": [
  {
   "cell_type": "code",
   "execution_count": 4,
   "metadata": {},
   "outputs": [],
   "source": [
    "import numpy as np\n",
    "import matplotlib.mlab as mlab\n",
    "import matplotlib.pyplot as plt"
   ]
  },
  {
   "cell_type": "code",
   "execution_count": 1,
   "metadata": {},
   "outputs": [],
   "source": [
    "def compute_in_degrees(digraph):\n",
    "    \"\"\"Takes a directed graph and computes the in-degrees for the nodes in the\n",
    "    graph. Returns a dictionary with the same set of keys (nodes) and the\n",
    "    values are the in-degrees.\"\"\"\n",
    "    #initialize in-degrees dictionary with zero values for all vertices\n",
    "    in_degree = {}\n",
    "        \n",
    "    for vertex in digraph:\n",
    "        in_degree[vertex] = 0\n",
    "    #consider each vertex\n",
    "    for vertex in digraph:\n",
    "        #amend in_degree[w] for each outgoing edge from v to w\n",
    "        for neighbour in digraph[vertex]:\n",
    "            in_degree[neighbour] += 1\n",
    "    return in_degree"
   ]
  },
  {
   "cell_type": "code",
   "execution_count": 2,
   "metadata": {},
   "outputs": [],
   "source": [
    "def in_degree_distribution(digraph):\n",
    "    \"\"\"Takes a directed graph and computes the unnormalized distribution of the\n",
    "    in-degrees of the graph.  Returns a dictionary whose keys correspond to\n",
    "    in-degrees of nodes in the graph and values are the number of nodes with\n",
    "    that in-degree. In-degrees with no corresponding nodes in the graph are not\n",
    "    included in the dictionary.\"\"\"\n",
    "    #find in_degrees\n",
    "    in_degree = compute_in_degrees(digraph)\n",
    "    #initialize dictionary for degree distribution\n",
    "    degree_distribution = {}\n",
    "    #consider each vertex\n",
    "    for vertex in in_degree:\n",
    "        #update degree_distribution\n",
    "        if in_degree[vertex] in degree_distribution:\n",
    "            degree_distribution[in_degree[vertex]] += 1\n",
    "        else:\n",
    "            degree_distribution[in_degree[vertex]] = 1\n",
    "    return degree_distribution"
   ]
  },
  {
   "cell_type": "code",
   "execution_count": 3,
   "metadata": {},
   "outputs": [],
   "source": [
    "def load_graph(graph_txt):\n",
    "    \"\"\"\n",
    "    Loads a graph from a text file.\n",
    "    Then returns the graph as a dictionary.\n",
    "    \"\"\"\n",
    "    graph = open(graph_txt)\n",
    "    \n",
    "    answer_graph = {}\n",
    "    nodes = 0\n",
    "    for line in graph:\n",
    "        neighbors = line.split(' ')\n",
    "        node = int(neighbors[0])\n",
    "        answer_graph[node] = set([])\n",
    "        for neighbor in neighbors[1 : -1]:\n",
    "            answer_graph[node].add(int(neighbor))\n",
    "        nodes += 1\n",
    "    print (\"Loaded graph with\", nodes, \"nodes\")\n",
    "    \n",
    "    return answer_graph"
   ]
  }
 ],
 "metadata": {
  "kernelspec": {
   "display_name": "Python 3",
   "language": "python",
   "name": "python3"
  },
  "language_info": {
   "codemirror_mode": {
    "name": "ipython",
    "version": 3
   },
   "file_extension": ".py",
   "mimetype": "text/x-python",
   "name": "python",
   "nbconvert_exporter": "python",
   "pygments_lexer": "ipython3",
   "version": "3.7.4"
  }
 },
 "nbformat": 4,
 "nbformat_minor": 2
}
