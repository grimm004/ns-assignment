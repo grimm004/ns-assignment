{
 "cells": [
  {
   "cell_type": "markdown",
   "metadata": {},
   "source": [
    "# Networks and their Structure: Network Science\n",
    "\n",
    "## Preferential Attachment\n",
    "\n",
    "We have concluded that random graphs are not necessarily a good model, certainly for the one network we looked at showing a citation network.\n",
    "\n",
    "Here we look at another model which we call PA Graphs (PA stands for Preferential Attachment), see the introduction in the last few slides.\n",
    "\n",
    "PA Graphs are defined algorithmically: first a complete directed graph on $m$ nodes is created (in a complete graph every node is joined to every other node in both directions).  Then new nodes are added one at a time and each links to $m$ existing nodes.  The probability that the new node links to an old node is proportional to the in-degree of the old node.  The total number of nodes is $n$, where $n$ is generally much larger than $m$.  Duplicate links are eliminated so a new node might be connected to fewer than $m$ nodes.\n",
    "\n",
    "The code below can be used to generate such graphs."
   ]
  },
  {
   "cell_type": "code",
   "execution_count": 1,
   "metadata": {},
   "outputs": [],
   "source": [
    "#based on code from http://www.codeskulptor.org/#alg_dpa_trial.py\n",
    "\n",
    "import random\n",
    "\n",
    "\n",
    "#first we need\n",
    "class PATrial:\n",
    "    \"\"\"\n",
    "    Used when each new node is added in creation of a PA graph.\n",
    "    Maintains a list of node numbers with multiple instances of each number.\n",
    "    The number of instances of each node number are in proportion to the\n",
    "    probability that it is linked to.\n",
    "    Uses random.choice() to select a node number from this list for each trial.\n",
    "    \"\"\"\n",
    "\n",
    "    def __init__(self, num_nodes):\n",
    "        \"\"\"\n",
    "        Initialize a PATrial object corresponding to a \n",
    "        complete graph with num_nodes nodes\n",
    "        \n",
    "        Note the initial list of node numbers has num_nodes copies of\n",
    "        each node number\n",
    "        \"\"\"\n",
    "        self._num_nodes = num_nodes  #note that the vertices are labelled from 0 so self._num_nodes is the label of the next vertex to be added\n",
    "        self._node_numbers = [node for node in range(num_nodes) for dummy_idx in range(num_nodes)]\n",
    "\n",
    "    def run_trial(self, num_nodes):\n",
    "        \"\"\"\n",
    "        Conduct num_node trials using by applying random.choice()\n",
    "        to the list of node numbers\n",
    "        \n",
    "        Updates the list of node numbers so that the number of instances of\n",
    "        each node number is in the same ratio as the desired probabilities\n",
    "        \n",
    "        Returns:\n",
    "        Set of nodes\n",
    "        \"\"\"\n",
    "        #compute the neighbors for the newly-created node\n",
    "        new_node_neighbors = set()\n",
    "        for dummy_idx in range(num_nodes):\n",
    "            new_node_neighbors.add(random.choice(self._node_numbers))\n",
    "        # update the list of node numbers so that each node number \n",
    "        # appears in the correct ratio\n",
    "        self._node_numbers.extend(list(new_node_neighbors))\n",
    "        # also add to the list of node numbers the id of the current node\n",
    "        # since each node must appear once in the list else no future node will link to it\n",
    "        # note that self._node_numbers will next be incremented\n",
    "        self._node_numbers.append(self._num_nodes)\n",
    "        # update the number of nodes\n",
    "        self._num_nodes += 1\n",
    "        return new_node_neighbors\n",
    "\n",
    "\n",
    "def make_complete_graph(num_nodes):\n",
    "    \"\"\"Takes the number of nodes num_nodes and returns a dictionary\n",
    "    corresponding to a complete directed graph with the specified number of\n",
    "    nodes. A complete graph contains all possible edges subject to the\n",
    "    restriction that self-loops are not allowed. The nodes of the graph should\n",
    "    be numbered 0 to num_nodes - 1 when num_nodes is positive. Otherwise, the\n",
    "    function returns a dictionary corresponding to the empty graph.\"\"\"\n",
    "    #initialize empty graph\n",
    "    complete_graph = {}\n",
    "    #consider each vertex\n",
    "    for vertex in range(num_nodes):\n",
    "        #add vertex with list of neighbours\n",
    "        complete_graph[vertex] = set([j for j in range(num_nodes) if j != vertex])\n",
    "    return complete_graph\n",
    "\n",
    "\n",
    "def make_pa_graph(total_nodes, out_degree):\n",
    "    \"\"\"creates a PA_Graph on total_nodes where each vertex is iteratively\n",
    "    connected to a number of existing nodes equal to out_degree\"\"\"\n",
    "    #initialize graph by creating complete graph and trial object\n",
    "    pa_graph = make_complete_graph(out_degree)\n",
    "    trial = PATrial(out_degree)\n",
    "    for vertex in range(out_degree, total_nodes):\n",
    "        pa_graph[vertex] = trial.run_trial(out_degree)\n",
    "    return pa_graph"
   ]
  },
  {
   "cell_type": "markdown",
   "metadata": {},
   "source": [
    "We can use the code above to create a PA graph by writing\n",
    "\n",
    "```python\n",
    "EX_GRAPH_PA1 = make_PA_Graph(n, m)\n",
    "```\n",
    "\n",
    "where $n$ and $m$ are positive integers for us to choose.  \n",
    "\n",
    "If we aim to construct a graph similar to the citation graph, what values should we choose for $n$ and $m$?  \n",
    "\n",
    "Once you have determined reasonable values, construct the graph and plot its in-degree distribution and compare it to the plot for the citation graph.  Is it a better model?  (Actually, the values of $n$ and $m$ do not much influence the \"shape\" of the distribution.)\n",
    "\n",
    "Use the next cell to import functions from the other notebooks."
   ]
  },
  {
   "cell_type": "code",
   "execution_count": 3,
   "metadata": {},
   "outputs": [],
   "source": [
    "%run NatSfunctions.ipynb"
   ]
  },
  {
   "cell_type": "code",
   "execution_count": 5,
   "outputs": [],
   "source": [
    "graph = make_pa_graph(100, 5)"
   ],
   "metadata": {
    "collapsed": false,
    "pycharm": {
     "name": "#%%\n"
    }
   }
  },
  {
   "cell_type": "code",
   "execution_count": 6,
   "outputs": [
    {
     "data": {
      "text/plain": "{0: {1, 2, 3, 4},\n 1: {0, 2, 3, 4},\n 2: {0, 1, 3, 4},\n 3: {0, 1, 2, 4},\n 4: {0, 1, 2, 3},\n 5: {3, 4},\n 6: {0, 1, 3, 4},\n 7: {0, 1, 2, 3, 6},\n 8: {0, 2},\n 9: {0, 1, 2, 3},\n 10: {0, 3, 4, 9},\n 11: {0, 1, 2, 3},\n 12: {1, 2, 3, 5, 6},\n 13: {1, 2, 3, 4, 6},\n 14: {0, 1, 3, 11},\n 15: {2, 3, 6, 7, 8},\n 16: {3, 6, 7, 8},\n 17: {0, 1, 4, 11, 13},\n 18: {0, 1, 2, 3},\n 19: {0, 1, 9, 10, 17},\n 20: {0, 1, 3, 4},\n 21: {2, 3, 9, 14, 17},\n 22: {0, 4, 6, 10, 18},\n 23: {0, 3, 4, 11},\n 24: {1, 2, 3, 6, 8},\n 25: {3, 6, 7, 11},\n 26: {1, 3, 11, 15},\n 27: {0, 4, 7, 21, 23},\n 28: {0, 3, 9, 12, 23},\n 29: {0, 1, 10},\n 30: {0, 2, 4, 26},\n 31: {1, 2, 7, 22},\n 32: {0, 3, 4, 15},\n 33: {0, 1, 11, 30},\n 34: {1, 2, 3, 4},\n 35: {1, 8, 10, 11},\n 36: {0, 3, 4, 8},\n 37: {2, 3, 4},\n 38: {4, 5, 6, 7, 9},\n 39: {0, 3, 7},\n 40: {0, 3, 7, 11, 20},\n 41: {0, 3, 7, 30},\n 42: {3, 5, 6, 26, 39},\n 43: {0, 1, 3, 7},\n 44: {0, 1, 4},\n 45: {0, 3, 8, 12, 42},\n 46: {1, 4, 10},\n 47: {1, 3, 4, 42},\n 48: {3, 6, 7, 26},\n 49: {0, 1, 2, 8, 26},\n 50: {0, 1, 3, 8},\n 51: {3, 4, 7, 8},\n 52: {0, 3, 4, 13},\n 53: {1, 4, 7, 26, 28},\n 54: {2, 4, 9, 11, 48},\n 55: {0, 1, 2, 15, 32},\n 56: {3, 17, 42, 48},\n 57: {3, 7, 11, 20, 41},\n 58: {2, 3, 8, 10, 39},\n 59: {3, 4, 11, 40},\n 60: {2, 11, 39, 41},\n 61: {0, 4, 7, 26},\n 62: {0, 3, 4, 10, 11},\n 63: {3, 4, 12, 47},\n 64: {3, 7, 8, 10},\n 65: {0, 3, 6},\n 66: {3, 10, 14, 26},\n 67: {2, 3, 4, 7, 18},\n 68: {1, 3, 7, 66},\n 69: {4, 10, 12, 17, 42},\n 70: {1, 3, 5, 40},\n 71: {0, 35, 53, 69},\n 72: {1, 2, 5, 10, 26},\n 73: {3, 4, 8, 51},\n 74: {0, 4, 5, 8, 56},\n 75: {3, 6, 17, 23, 33},\n 76: {0, 2, 4, 20},\n 77: {1, 3, 4, 8, 48},\n 78: {3, 4, 26},\n 79: {4, 7, 11, 48, 76},\n 80: {4, 6, 7, 8, 60},\n 81: {7, 10, 20, 40, 67},\n 82: {1, 3, 7, 8, 17},\n 83: {3, 9, 30, 48, 82},\n 84: {0, 3, 6, 9, 74},\n 85: {0, 1, 6, 19, 55},\n 86: {0, 9, 41, 43, 52},\n 87: {1, 3, 6, 8, 9},\n 88: {7, 8, 20, 28, 43},\n 89: {4, 5, 10, 87},\n 90: {0, 3, 4, 5, 43},\n 91: {0, 2, 3, 10, 48},\n 92: {0, 2, 3, 17, 23},\n 93: {1, 2, 6, 17},\n 94: {3, 4, 11, 26, 28},\n 95: {3, 6, 8, 14, 87},\n 96: {3, 4, 5, 10, 40},\n 97: {1, 2, 3, 4, 23},\n 98: {4, 8, 9, 11, 31},\n 99: {0, 4, 32, 47, 96}}"
     },
     "execution_count": 6,
     "metadata": {},
     "output_type": "execute_result"
    }
   ],
   "source": [
    "graph"
   ],
   "metadata": {
    "collapsed": false,
    "pycharm": {
     "name": "#%%\n"
    }
   }
  },
  {
   "cell_type": "code",
   "execution_count": null,
   "outputs": [],
   "source": [],
   "metadata": {
    "collapsed": false,
    "pycharm": {
     "name": "#%%\n"
    }
   }
  }
 ],
 "metadata": {
  "kernelspec": {
   "display_name": "Python 3",
   "language": "python",
   "name": "python3"
  },
  "language_info": {
   "codemirror_mode": {
    "name": "ipython",
    "version": 3
   },
   "file_extension": ".py",
   "mimetype": "text/x-python",
   "name": "python",
   "nbconvert_exporter": "python",
   "pygments_lexer": "ipython3",
   "version": "3.7.3"
  }
 },
 "nbformat": 4,
 "nbformat_minor": 2
}