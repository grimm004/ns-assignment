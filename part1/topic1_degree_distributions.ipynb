{
 "cells": [
  {
   "cell_type": "markdown",
   "metadata": {},
   "source": [
    "# Networks and their Structure: Network Science\n",
    "\n",
    "## Modelling Networks\n",
    "\n",
    "Preamble: it is helpful to use models to study real networks, but we need to consider whether our models have the same features as real networks.\n",
    "\n",
    "One simple feature of a network is the degrees of the nodes.  The degree of a node is just the number of incident links --- one can also think of in-degree and out-degree if the links are directed either towards or away from the node.  We will look at the degrees of a real network and of a simple model.\n",
    "\n",
    "We will define graphs as dictionaries where the keys are the nodes and the\n",
    "values are sets containing all neighbours.  Here is an example digraph (we\n",
    "can define graphs in the same way --- just need to ensure symmetry)"
   ]
  },
  {
   "cell_type": "code",
   "execution_count": 1,
   "metadata": {},
   "outputs": [],
   "source": [
    "EXAMPLE = {0: set([1, 4, 5, 8]),\n",
    "           1: set([4, 6]),\n",
    "           2: set([3, 7, 9]),\n",
    "           3: set([7]),\n",
    "           4: set([2]),\n",
    "           5: set([1]),\n",
    "           6: set([]),\n",
    "           7: set([3]),\n",
    "           8: set([1, 2]),\n",
    "           9: set([0 ,3, 4, 5, 6, 7])}"
   ]
  },
  {
   "cell_type": "markdown",
   "metadata": {},
   "source": [
    "So the definition gives us the edges going *out* from each vertex.  We can immediately compute the edges going in."
   ]
  },
  {
   "cell_type": "code",
   "execution_count": 2,
   "metadata": {},
   "outputs": [],
   "source": [
    "def compute_in_degrees(digraph):\n",
    "    \"\"\"Takes a directed graph and computes the in-degrees for the nodes in the\n",
    "    graph. Returns a dictionary with the same set of keys (nodes) and the\n",
    "    values are the in-degrees.\"\"\"\n",
    "    #initialize in-degrees dictionary with zero values for all vertices\n",
    "    in_degree = {}\n",
    "        \n",
    "    for vertex in digraph:\n",
    "        in_degree[vertex] = 0\n",
    "    #consider each vertex\n",
    "    for vertex in digraph:\n",
    "        #amend in_degree[w] for each outgoing edge from v to w\n",
    "        for neighbour in digraph[vertex]:\n",
    "            in_degree[neighbour] += 1\n",
    "    return in_degree"
   ]
  },
  {
   "cell_type": "markdown",
   "metadata": {},
   "source": [
    "What is the in-degree of node 3?"
   ]
  },
  {
   "cell_type": "code",
   "execution_count": 3,
   "metadata": {},
   "outputs": [],
   "source": [
    "in_degree = compute_in_degrees(EXAMPLE)"
   ]
  },
  {
   "cell_type": "code",
   "execution_count": 4,
   "metadata": {},
   "outputs": [
    {
     "data": {
      "text/plain": [
       "3"
      ]
     },
     "execution_count": 4,
     "metadata": {},
     "output_type": "execute_result"
    }
   ],
   "source": [
    "in_degree[3]"
   ]
  },
  {
   "cell_type": "markdown",
   "metadata": {},
   "source": [
    "How many nodes have in-degree 1?"
   ]
  },
  {
   "cell_type": "code",
   "execution_count": 5,
   "metadata": {},
   "outputs": [
    {
     "name": "stdout",
     "output_type": "stream",
     "text": [
      "3\n"
     ]
    }
   ],
   "source": [
    "deg1 = [v for v in EXAMPLE if in_degree[v]==1]\n",
    "print(len(deg1))"
   ]
  },
  {
   "cell_type": "markdown",
   "metadata": {},
   "source": [
    "We will be interested in the distribution of in-degrees so here is some code to find that."
   ]
  },
  {
   "cell_type": "code",
   "execution_count": 6,
   "metadata": {},
   "outputs": [],
   "source": [
    "def in_degree_distribution(digraph):\n",
    "    \"\"\"Takes a directed graph and computes the unnormalized distribution of the\n",
    "    in-degrees of the graph.  Returns a dictionary whose keys correspond to\n",
    "    in-degrees of nodes in the graph and values are the number of nodes with\n",
    "    that in-degree. In-degrees with no corresponding nodes in the graph are not\n",
    "    included in the dictionary.\"\"\"\n",
    "    #find in_degrees\n",
    "    in_degree = compute_in_degrees(digraph)\n",
    "    #initialize dictionary for degree distribution\n",
    "    degree_distribution = {}\n",
    "    #consider each vertex\n",
    "    for vertex in in_degree:\n",
    "        #update degree_distribution\n",
    "        if in_degree[vertex] in degree_distribution:\n",
    "            degree_distribution[in_degree[vertex]] += 1\n",
    "        else:\n",
    "            degree_distribution[in_degree[vertex]] = 1\n",
    "    return degree_distribution"
   ]
  },
  {
   "cell_type": "code",
   "execution_count": 7,
   "metadata": {},
   "outputs": [],
   "source": [
    "dd = in_degree_distribution(EXAMPLE)"
   ]
  },
  {
   "cell_type": "code",
   "execution_count": 8,
   "metadata": {},
   "outputs": [
    {
     "name": "stdout",
     "output_type": "stream",
     "text": [
      "{1: 3, 3: 4, 2: 3}\n"
     ]
    }
   ],
   "source": [
    "print(dd)"
   ]
  },
  {
   "cell_type": "markdown",
   "metadata": {},
   "source": [
    "We are going to analyze the structure of graphs generated by citation patterns from scientific papers. \n",
    "\n",
    "Each scientific paper cites many other papers.  The question is: are the cited papers chosen randomly or is there some \"hidden pattern\"? (Well, obviously they're not chosen randomly, but can we tell that just by looking at network structure.)\n",
    "\n",
    "We represent the citation data as a directed graph (a citation graph) in which the nodes correspond to papers, and there is an edge from node $i$ to node $j$ if the paper corresponding to node $i$ cites the paper corresponding to node $j$.\n",
    "\n",
    "As we're interested in understanding how papers get cited, we analyze the in-degree distribution of a specific graph.  Then we will, eventually, contrast it to those of graphs generated by two different random processes. \n",
    "\n",
    "A citation network is given in the file alg_phys-cite.txt.  Each line of the file corresponds to a paper.  The first item is an identifier for the paper.  The others are identifiers for the papers that it cites.  Save the file in the same directory as this notebook.\n",
    "\n",
    "The code below loads a file and creates the network as a digraph"
   ]
  },
  {
   "cell_type": "code",
   "execution_count": 9,
   "metadata": {},
   "outputs": [],
   "source": [
    "def load_graph(graph_txt):\n",
    "    \"\"\"\n",
    "    Loads a graph from a text file.\n",
    "    Then returns the graph as a dictionary.\n",
    "    \"\"\"\n",
    "    graph = open(graph_txt)\n",
    "    \n",
    "    answer_graph = {}\n",
    "    nodes = 0\n",
    "    for line in graph:\n",
    "        neighbors = line.split(' ')\n",
    "        node = int(neighbors[0])\n",
    "        answer_graph[node] = set([])\n",
    "        for neighbor in neighbors[1 : -1]:\n",
    "            answer_graph[node].add(int(neighbor))\n",
    "        nodes += 1\n",
    "    print (\"Loaded graph with\", nodes, \"nodes\")\n",
    "    \n",
    "    return answer_graph"
   ]
  },
  {
   "cell_type": "markdown",
   "metadata": {},
   "source": [
    "So let's apply it to the citation data."
   ]
  },
  {
   "cell_type": "code",
   "execution_count": 10,
   "metadata": {},
   "outputs": [
    {
     "name": "stdout",
     "output_type": "stream",
     "text": [
      "Loaded graph with 27770 nodes\n"
     ]
    }
   ],
   "source": [
    "citation_graph = load_graph(\"alg_phys-cite.txt\")"
   ]
  },
  {
   "cell_type": "markdown",
   "metadata": {},
   "source": [
    "Let's combine everything: create objects called citation_in_degrees and citation_distribution that describe the nodes' in-degrees and the in-degree distribution of the citations network."
   ]
  },
  {
   "cell_type": "code",
   "execution_count": 11,
   "metadata": {},
   "outputs": [],
   "source": [
    "citation_in_degrees = compute_in_degrees(citation_graph)"
   ]
  },
  {
   "cell_type": "code",
   "execution_count": 12,
   "metadata": {},
   "outputs": [],
   "source": [
    "citation_distribution = in_degree_distribution(citation_graph)"
   ]
  },
  {
   "cell_type": "markdown",
   "metadata": {},
   "source": [
    "How many papers are cited just once?  Which paper is cited the most and how many times is it cited?"
   ]
  },
  {
   "cell_type": "code",
   "execution_count": 13,
   "metadata": {},
   "outputs": [
    {
     "name": "stdout",
     "output_type": "stream",
     "text": [
      "3787\n"
     ]
    }
   ],
   "source": [
    "print(citation_distribution[1])"
   ]
  },
  {
   "cell_type": "code",
   "execution_count": 14,
   "metadata": {},
   "outputs": [],
   "source": [
    "most_cited = max(citation_in_degrees, key=lambda k: citation_in_degrees[k])"
   ]
  },
  {
   "cell_type": "code",
   "execution_count": 15,
   "metadata": {},
   "outputs": [
    {
     "data": {
      "text/plain": [
       "2414"
      ]
     },
     "execution_count": 15,
     "metadata": {},
     "output_type": "execute_result"
    }
   ],
   "source": [
    "citation_in_degrees[most_cited]"
   ]
  },
  {
   "cell_type": "markdown",
   "metadata": {},
   "source": [
    "Distributions are easier to consider visually.\n",
    "\n",
    "First note that working with normalized distributions is better (so we can compare networks of different sizes).\n",
    "\n",
    "The code below creates a plot of the distribution (and saves it as citations.png)."
   ]
  },
  {
   "cell_type": "code",
   "execution_count": 17,
   "metadata": {},
   "outputs": [
    {
     "data": {
      "text/plain": [
       "<function matplotlib.pyplot.show(*args, **kw)>"
      ]
     },
     "execution_count": 17,
     "metadata": {},
     "output_type": "execute_result"
    },
    {
     "data": {
      "image/png": "[encoded data removed]",
      "text/plain": [
       "<Figure size 432x288 with 1 Axes>"
      ]
     },
     "metadata": {
      "needs_background": "light"
     },
     "output_type": "display_data"
    }
   ],
   "source": [
    "normalized_citation_distribution = {}\n",
    "for degree in citation_distribution:\n",
    "    normalized_citation_distribution[degree] = citation_distribution[degree] / 27770.0\n",
    "\n",
    "#create arrays for plotting\n",
    "xdata = []\n",
    "ydata = []\n",
    "for degree in normalized_citation_distribution:\n",
    "    xdata += [degree]\n",
    "    ydata += [normalized_citation_distribution[degree]]\n",
    "    \n",
    "import numpy as np\n",
    "import matplotlib.mlab as mlab\n",
    "import matplotlib.pyplot as plt\n",
    "\n",
    "#plot degree distribution \n",
    "plt.xlabel('In-Degree')\n",
    "plt.ylabel('Normalized Rate')\n",
    "plt.title('In-Degree Distribution of Citation Graph')\n",
    "plt.loglog(xdata, ydata, marker='.', linestyle='None', color='b')\n",
    "plt.savefig('citations.png')\n",
    "plt.rcParams[\"figure.figsize\"] = (10,10)\n",
    "plt.show"
   ]
  },
  {
   "cell_type": "markdown",
   "metadata": {},
   "source": [
    "Look at the plot (note the logarithmic scale).  This, in essence, provides a signature of the network.  So if we have a network model that we claim we can use to investigate this kind of network, then it should have a similar distribution."
   ]
  }
 ],
 "metadata": {
  "kernelspec": {
   "display_name": "Python 3",
   "language": "python",
   "name": "python3"
  },
  "language_info": {
   "codemirror_mode": {
    "name": "ipython",
    "version": 3
   },
   "file_extension": ".py",
   "mimetype": "text/x-python",
   "name": "python",
   "nbconvert_exporter": "python",
   "pygments_lexer": "ipython3",
   "version": "3.7.3"
  }
 },
 "nbformat": 4,
 "nbformat_minor": 2
}
