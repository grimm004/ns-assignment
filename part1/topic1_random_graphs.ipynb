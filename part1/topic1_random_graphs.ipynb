{
 "cells": [
  {
   "cell_type": "markdown",
   "metadata": {},
   "source": [
    "# Networks and their Structure: Network Science\n",
    "\n",
    "## Modelling Networks continued\n",
    "\n",
    "We look first at the simplest possible where edges are simply added at random.  To be precise: a *random graph* is defined by two numbers, the number of nodes and the probability that there is a link between each pair of distinct nodes. Below is the code for generating such graphs."
   ]
  },
  {
   "cell_type": "code",
   "execution_count": 1,
   "metadata": {},
   "outputs": [],
   "source": [
    "import random\n",
    "\n",
    "def make_random_graph(num_nodes, prob):\n",
    "    \"\"\"Returns a dictionary to a random graph with the specified number of nodes\n",
    "    and edge probability.  The nodes of the graph are numbered 0 to\n",
    "    num_nodes - 1.  For every pair of nodes, i and j, the pair is considered\n",
    "    twice: once to add an edge (i,j) with probability prob, and then to add an\n",
    "    edge (j,i) with probability prob. \n",
    "    \"\"\"\n",
    "    #initialize empty graph\n",
    "    random_graph = {}\n",
    "    #consider each vertex\n",
    "    for vertex in range(num_nodes):\n",
    "        out_neighbours = []\n",
    "        for neighbour in range(num_nodes):\n",
    "            if vertex != neighbour:\n",
    "                random_number = random.random()\n",
    "                if random_number < prob:\n",
    "                    out_neighbours += [neighbour]        \n",
    "        #add vertex with list of out_neighbours\n",
    "        random_graph[vertex] = set(out_neighbours)\n",
    "    return random_graph"
   ]
  },
  {
   "cell_type": "markdown",
   "metadata": {},
   "source": [
    "**Task**: create a random graph on 1000 vertices with prob=0.1 and plot the normalized in-degree distribution (using the code from the previous notebook --  if a logarithmic plot is not appropriate replace plt.loglog with plt.plot.\n",
    "\n",
    "Compare with the previous plot.  Are random graphs a good model for citation networks?"
   ]
  },
  {
   "cell_type": "markdown",
   "metadata": {},
   "source": [
    "**Solution**\n",
    "\n",
    "We need the functions ``compute_in_degrees`` and ``in_degree_distribution`` from last time.  These have been saved in a notebook NatSfunctions.ipynb where we will put anything else useful we develop which can then be made available in other notebooks using"
   ]
  },
  {
   "cell_type": "code",
   "execution_count": 2,
   "metadata": {},
   "outputs": [],
   "source": [
    "%run NatSfunctions.ipynb"
   ]
  },
  {
   "cell_type": "markdown",
   "metadata": {},
   "source": [
    "Now create a random graph with the specified parameters and find the normalized (in-)degree distribution.  (As in-degree and out-degree are the same, we could more simply just look up the vertices and count the neighbours.)"
   ]
  },
  {
   "cell_type": "code",
   "execution_count": 3,
   "metadata": {},
   "outputs": [],
   "source": [
    "example_random_graph = make_random_graph(1000, 0.1)\n",
    "\n",
    "example_rg_distribution = in_degree_distribution(example_random_graph)\n",
    "\n",
    "normalized_rg_distribution = {}\n",
    "for degree in example_rg_distribution:\n",
    "    normalized_rg_distribution[degree] = example_rg_distribution[degree] / 1000.0"
   ]
  },
  {
   "cell_type": "markdown",
   "metadata": {},
   "source": [
    "And for ease of comparision, make a plot."
   ]
  },
  {
   "cell_type": "code",
   "execution_count": 4,
   "metadata": {},
   "outputs": [
    {
     "data": {
      "text/plain": [
       "<function matplotlib.pyplot.show(*args, **kw)>"
      ]
     },
     "execution_count": 4,
     "metadata": {},
     "output_type": "execute_result"
    },
    {
     "data": {
      "image/png": "[encoded data removed]",
      "text/plain": [
       "<Figure size 432x288 with 1 Axes>"
      ]
     },
     "metadata": {
      "needs_background": "light"
     },
     "output_type": "display_data"
    }
   ],
   "source": [
    "#create arrays for plotting\n",
    "xdata = []\n",
    "ydata = []\n",
    "for degree in normalized_rg_distribution:\n",
    "    xdata += [degree]\n",
    "    ydata += [normalized_rg_distribution[degree]]\n",
    "    \n",
    "#plot degree distribution\n",
    "plt.clf() #clears plot else will be superimposed\n",
    "plt.xlabel('In-Degree')\n",
    "plt.ylabel('Normalized Rate')\n",
    "plt.title('In-Degree Distribution of Random Graph')\n",
    "plt.plot(xdata, ydata, marker='.', linestyle='None', color='b')\n",
    "plt.savefig('na2random.png')\n",
    "plt.rcParams[\"figure.figsize\"] = (10,10)\n",
    "plt.show"
   ]
  },
  {
   "cell_type": "code",
   "execution_count": null,
   "metadata": {},
   "outputs": [],
   "source": []
  }
 ],
 "metadata": {
  "kernelspec": {
   "display_name": "Python 3",
   "language": "python",
   "name": "python3"
  },
  "language_info": {
   "codemirror_mode": {
    "name": "ipython",
    "version": 3
   },
   "file_extension": ".py",
   "mimetype": "text/x-python",
   "name": "python",
   "nbconvert_exporter": "python",
   "pygments_lexer": "ipython3",
   "version": "3.7.4"
  }
 },
 "nbformat": 4,
 "nbformat_minor": 2
}
