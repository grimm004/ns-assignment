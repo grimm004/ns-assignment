{
 "cells": [
  {
   "cell_type": "markdown",
   "metadata": {},
   "source": [
    "# Networks and their Structure: Network Science\n",
    "\n",
    "## The SIRS Epidemic Model\n",
    "\n",
    "We consider a simulation of the SIRS Epidemic Model.\n",
    "\n",
    "We use the Watts-Strogatiz model from Topic 2.  Recall that is a circular lattice where, with probability $p$, each edge is *rewired*, that is, deleted and replaced with a random edge."
   ]
  },
  {
   "cell_type": "code",
   "execution_count": null,
   "metadata": {},
   "outputs": [],
   "source": [
    "%run WS.ipynb"
   ]
  },
  {
   "cell_type": "markdown",
   "metadata": {},
   "source": [
    "The following function simulates an SIRS epidemic in a WS graph.\n",
    "\n",
    "The inputs are the network, the infectious period $t_I$, the recovery period $t_R$, the fraction of the population initially infected ``inf_fraction`` (chosen at random), and the number of time steps the simulation will run.\n",
    "\n",
    "The output is the fraction of infected nodes at each time step.\n",
    "\n",
    "Note that the model is defined slightly differently to in the lecture notes.   A susceptible node's probability of becoming infected depends on the number of infected neighbours it has."
   ]
  },
  {
   "cell_type": "code",
   "execution_count": null,
   "metadata": {},
   "outputs": [],
   "source": [
    "def SIRS(ws_graph, tI, tR, inf_fraction, T, calculate_period=False):\n",
    "    num_nodes = len(ws_graph)       #find size of graph\n",
    "    state = {}                      #dictionary will record the state of each node\n",
    "    for vertex in ws_graph:         #this is 0 if the node is susceptible; between 1 and tI if it is infectious,\n",
    "        state[vertex] = 0           #and between tI+1 and tI+tR if it is recovering\n",
    "    infected = random.sample(range(num_nodes), int(inf_fraction * num_nodes))   #a randomly chosen fraction of the nodes are infected\n",
    "    for vertex in infected:\n",
    "        state[vertex] = 1\n",
    "    infection_rate = [inf_fraction] #data structure that will record the fraction of nodes infected at each time step\n",
    "    new_state = {}                  #records the updated state of each node\n",
    "    if calculate_period:            #measure the number of time steps between consecutive peaks of the infected fraction\n",
    "        last_peak = inf_fraction    #assume initial rate is a peak\n",
    "        going_up = False            #assume rate is falling \n",
    "        time_since_last_peak = 0    #first values found will be meaningless if assumption is false\n",
    "        period = []                 #data structure to record steps between consecutive peaks \n",
    "    for time in range(T):                  \n",
    "        num_infected = 0.0                                          #count number of nodes currently infected\n",
    "        for vertex in ws_graph:                                     #look at each node\n",
    "            if state[vertex] > 0:                                   #if node is in I or R\n",
    "                if state[vertex] == tI + tR:                        #check to see if it has reached the end of the recovery period\n",
    "                    new_state[vertex] = 0                           #and reset to susceptible\n",
    "                else:\n",
    "                    new_state[vertex] = state[vertex] + 1           #else increment the state\n",
    "                    if new_state[vertex] <= tI: num_infected += 1   #if infected add to count\n",
    "            else:                                                   #otherwise node is susceptible\n",
    "                total_nbours = 0.0                                  \n",
    "                inf_nbours = 0.0\n",
    "                for neighbour in ws_graph[vertex]:\n",
    "                    total_nbours += 1                               #count each neighbour\n",
    "                    if state[neighbour] > 0 and state[neighbour] <= tI: \n",
    "                        inf_nbours += 1                             #and count no. of infected neighbours\n",
    "                infection_prob = inf_nbours / total_nbours          #calculate probability of infection\n",
    "                random_number = random.random()\n",
    "                if infection_prob > random_number:                  #if node is newly infected\n",
    "                    new_state[vertex] = 1                           #update state\n",
    "                    num_infected += 1                               #and add to count\n",
    "                else:\n",
    "                    new_state[vertex] = 0                           #if not infected state is still zero\n",
    "        state = new_state                                           #update all states\n",
    "        infection_rate += [num_infected / num_nodes]                #calculate infection rate\n",
    "        \n",
    "        if calculate_period:        #check if peak has just been passed\n",
    "            time_since_last_peak +=1\n",
    "            if going_up == False and infection_rate[-1] > infection_rate[-2]: #check if trough has been passed\n",
    "                going_up = True\n",
    "            if going_up == True and infection_rate[-1] < infection_rate[-2]: #check if peak has been passed\n",
    "                going_up = False\n",
    "                period += [time_since_last_peak]\n",
    "                time_since_last_peak = 0\n",
    "        if time % 100 == 0:\n",
    "            print (time, infection_rate[-1])\n",
    "    if calculate_period:\n",
    "        print (period)\n",
    "        print ()\n",
    "    return infection_rate"
   ]
  },
  {
   "cell_type": "markdown",
   "metadata": {},
   "source": [
    "And here is a function for plotting."
   ]
  },
  {
   "cell_type": "code",
   "execution_count": null,
   "metadata": {},
   "outputs": [],
   "source": [
    "import matplotlib.pyplot as plt\n",
    "import textwrap\n",
    "\n",
    "\n",
    "def plot_inf_vs_time(num_nodes, clockwise_neighbours, rewiring_prob, tI, tR, inf_fraction, time, output_file='test.png', show=False):\n",
    "    \"\"\"plots infection rate in a WS-graph against time using the SIRS model\"\"\"\n",
    "    g = make_ws_graph(num_nodes, clockwise_neighbours, rewiring_prob)\n",
    "    xdata = range(time+1)[time-100:]\n",
    "    ydata = SIRS(g, tI, tR, inf_fraction, time, calculate_period=True)[time-100:]\n",
    "    plt.clf() #clears plot\n",
    "    plt.xlabel('time')\n",
    "    plt.ylabel('infection rate')\n",
    "    title = str('Infection in WS graph on ' + str(num_nodes)+' nodes with '+ str(clockwise_neighbours*2) + \\\n",
    "                ' lattice neighbours and rewiring prob '+ \\\n",
    "                str(rewiring_prob) + ' using SIRS model with infection time ' + str(tI)+ ', recovery time '+ str(tR))\n",
    "    plt.title('\\n'.join(textwrap.wrap(title,75)))\n",
    "    plt.plot(xdata, ydata, marker='.', linestyle='-', color='r')\n",
    "    plt.savefig(output_file)\n",
    "    if show: plt.show()"
   ]
  },
  {
   "cell_type": "code",
   "execution_count": null,
   "metadata": {},
   "outputs": [],
   "source": [
    "plot_inf_vs_time(10000, 4, 0.01, 3, 7, 0.1, 1000)"
   ]
  },
  {
   "cell_type": "code",
   "execution_count": null,
   "metadata": {},
   "outputs": [],
   "source": [
    "plot_inf_vs_time(10000, 4, 0.2, 3, 7, 0.1, 1000)"
   ]
  },
  {
   "cell_type": "markdown",
   "metadata": {},
   "source": [
    "Note the function ``SIRS`` also calculates the period of the oscillations -- these are printed out above the plot."
   ]
  }
 ],
 "metadata": {
  "kernelspec": {
   "display_name": "Python 3",
   "language": "python",
   "name": "python3"
  },
  "language_info": {
   "codemirror_mode": {
    "name": "ipython",
    "version": 3
   },
   "file_extension": ".py",
   "mimetype": "text/x-python",
   "name": "python",
   "nbconvert_exporter": "python",
   "pygments_lexer": "ipython3",
   "version": "3.7.4"
  }
 },
 "nbformat": 4,
 "nbformat_minor": 2
}
