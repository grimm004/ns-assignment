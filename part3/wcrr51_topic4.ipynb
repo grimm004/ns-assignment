{
 "cells": [
  {
   "cell_type": "markdown",
   "metadata": {},
   "source": [
    "# Networks and their Structure Assignment\n",
    "\n",
    "## Network Science Topics 2 and 4\n",
    "\n",
    "Note that the networks in this exercise are undirected.\n",
    "\n",
    "Recall the Watts-Strogatz network model from Topic 2.  Here we define a similar model which we call the **Variable Degree Watts-Strogatz (VDWS) model**.  This is how a **VDWS-network** is constructed.\n",
    "\n",
    "* Let $n$ and $m$ be positive integers.  Let $p$ be a real number between 0 and 1.  Create a set of $n$ vertices labelled 0 to $n-1$.  We think of these as being arranged on a circle so if two adjacent vertices are close to each other on the circle, it is clear what is meant if we say that one is the clockwise neighbour of the other.  For example 4 is a clockwise neighbour of 2.\n",
    "* For each $v$, let $\\ell(v)$ be the local degree of $v$.  Choose the values $\\ell(v)$ randomly such that they have a zero-truncated Poisson distribution with parameter $m$ (see below).  \n",
    "* Join each vertex $v$ to vertices $v - \\ell(v), v - \\ell(v) + 1, \\ldots, v-1, v+1, \\ldots v + \\ell(v) - 1, v + \\ell(v)$ where addition is $\\bmod n$.  Thus each vertex will have degree at least $2\\ell(v)$, but it might be more.  For example, if 3 has local degree 2, then it will be adjacent to 1, 2, 4 and 5.   But if 10 has local degree 7, there will also be an edge between 3 and 10.   \n",
    "* For each vertex $v$, for each edge from $v$ to a clockwise neighbour $w$: with probability $p$, the edge from $v$ to $w$ is deleted and replaced by an edge from $v$ to a vertex $x$ chosen uniformly at random from all the vertices in the network. We call this process *rewiring*. If $x=v$ or $x$ is already a neighbour of $v$, then we do nothing and the edge from $v$ to $w$ is kept.  (Note that in this way, each of the edges created in the previous step should be considered exactly once for rewiring, and that edges that are created by rewiring should not be later rewired themselves.)\n",
    "\n",
    "You will need to write code to create VDWS-networks.  You can use the code for WS-networks (see Topic 4 on Learn Ultra) as a starting point.  To create values that are sampled from a zero-truncated Poisson distribution with parameter $m=10$, say, you can use the following code.\n",
    "\n",
    "```python\n",
    "import numpy as np\n",
    "local_degrees = np.random.poisson(10, 100)\n",
    "local_degrees = local_degrees[local_degrees > 0]\n",
    "```\n",
    "\n",
    "Note that the number of values created cannot be predicted precisely since the second line samples 100 values from a Poisson distribution and then the third line removes the zeros (although zeros are very unlikely for the value of $m$ we will use).\n",
    "\n",
    "1. [20 marks] Consider the epidemic model with vaccinations from the Topic 4 lecture notes with states S, I, V, VI and R.  Using this model, simulate the spread of disease on a VDWS-network with $n=200000$, $m=25$ and $p=0.01$.  Assume that initially 5 randomly chosen vertices are in I and every other node is in S.  From $t=50$, at each time step move 400 randomly chosen vertices from S to V (until S is empty).  Let $t_I=2$ and consider various values for the other parameters.   Initially let $p(\\mbox{I}, \\mbox{S})=p(\\mbox{I}, \\mbox{V})=p(\\mbox{VI}, \\mbox{S})=p(\\mbox{VI}, \\mbox{V})=0.01$ (implying that the vaccination is ineffective).   Then consider cases where $p(\\mbox{I}, \\mbox{S})=0.01$ but the other probabilities are lower, modelling the cases where the vaccination protects against infection, transmission or both.  In each case, create plots that show  how the number of vertices in each of the five states varies over time.  Comment on your findings.\n",
    "\n",
    "2. [25 marks] Repeat the simulations of the previous question, but with the single change that the 400 vertices moved from S to V at each time step (after $t=50$) can be strategically chosen (rather than being chosen at random).  Propose and test three different strategies and comment on their effectiveness.\n",
    "\n",
    "With the values given, each simulation should require no more than 400 time steps (before the infection dies out).  You should be able to run this in a few minutes on your own computer (or any university PC).  If you find that with the values I have given, the simulations take too long, then choose alternative values and document this in your submission."
   ]
  },
  {
   "cell_type": "code",
   "execution_count": 25,
   "outputs": [],
   "source": [
    "from typing import Dict, Set, List, Literal\n",
    "import numpy as np\n",
    "import random\n",
    "\n",
    "Node = Vertex = int\n",
    "Network = Graph = Dict[Node, Set[Node]]\n",
    "NodeState = Literal[\"S\", \"I\", \"V\", \"VI\", \"R\"]"
   ],
   "metadata": {
    "collapsed": false,
    "pycharm": {
     "name": "#%%\n"
    }
   }
  },
  {
   "cell_type": "code",
   "execution_count": 26,
   "outputs": [],
   "source": [
    "def vdws_network(n_: int, m_: int, p_: float) -> Network:\n",
    "    network_: Network = {i_: set() for i_ in range(n_)}\n",
    "\n",
    "    local_degrees_: np.array = np.zeros(0)\n",
    "    while len(local_degrees_) != n_:\n",
    "        local_degrees_ = np.random.poisson(m_, n_)\n",
    "        local_degrees_ = local_degrees_[local_degrees_ > 0]\n",
    "\n",
    "    # Generate circular edges from local degrees\n",
    "    for node_ in range(n_):\n",
    "        local_degree_ = local_degrees_[node_]\n",
    "        for neighbour_ in range(node_ - local_degree_, node_ + local_degree_ + 1):\n",
    "            neighbour_ = neighbour_ % n_\n",
    "            if node_ == neighbour_:\n",
    "                continue\n",
    "\n",
    "            network_[node_].add(neighbour_)\n",
    "            network_[neighbour_].add(node_)\n",
    "\n",
    "    # Rewire network\n",
    "    for node_ in range(n_):\n",
    "        local_degree_ = local_degrees_[node_]\n",
    "        for clockwise_neighbour_ in range(node_, node_ + local_degree_ + 1):\n",
    "            clockwise_neighbour_ = clockwise_neighbour_ % n_\n",
    "            if random.random() < p_:\n",
    "                new_neighbour_ = random.randint(0, n_ - 1)\n",
    "                if new_neighbour_ != node_ and new_neighbour_ not in network_[node_]:\n",
    "                    if clockwise_neighbour_ in network_[node_]:\n",
    "                        network_[node_].remove(clockwise_neighbour_)\n",
    "                    if node_ in network_[clockwise_neighbour_]:\n",
    "                        network_[clockwise_neighbour_].remove(node_)\n",
    "\n",
    "                    network_[node_].add(new_neighbour_)\n",
    "                    network_[new_neighbour_].add(node_)\n",
    "\n",
    "    return network_"
   ],
   "metadata": {
    "collapsed": false,
    "pycharm": {
     "name": "#%%\n"
    }
   }
  },
  {
   "cell_type": "code",
   "execution_count": 28,
   "outputs": [
    {
     "data": {
      "text/plain": "{0: {2, 3, 4, 7, 8, 9},\n 1: {5, 7},\n 2: {0, 3, 4, 5, 6, 9},\n 3: {0, 2, 4, 5},\n 4: {0, 2, 3, 5, 6},\n 5: {1, 2, 3, 4, 7},\n 6: {2, 4},\n 7: {0, 1, 5, 8},\n 8: {0, 7, 9},\n 9: {0, 2, 8}}"
     },
     "execution_count": 28,
     "metadata": {},
     "output_type": "execute_result"
    }
   ],
   "source": [
    "vdws_network(10, 1, 0.5)"
   ],
   "metadata": {
    "collapsed": false,
    "pycharm": {
     "name": "#%%\n"
    }
   }
  },
  {
   "cell_type": "code",
   "execution_count": 36,
   "outputs": [],
   "source": [
    "def epidemic(\n",
    "        network_: Network,\n",
    "        p_i_s: float,\n",
    "        p_i_v: float,\n",
    "        p_vi_s: float,\n",
    "        p_vi_v: float,\n",
    "        vaccinations_per_tick: int = 400,\n",
    "        ti: int = 2\n",
    ") -> None:\n",
    "    n_ = len(network_)\n",
    "    node_states_: List[NodeState] = [\"S\"] * n_\n",
    "    s_nodes_: Set[Node] = set(network_)\n",
    "    i_nodes_: Dict[Node, int] = {}\n",
    "    v_nodes_: Set[Node] = set()\n",
    "    vi_nodes_: Dict[Node, int] = {}\n",
    "    r_nodes_: Set[Node] = set()\n",
    "\n",
    "    # Initial infection\n",
    "    for i_node_ in random.sample(list(network_), 5):\n",
    "        s_nodes_.remove(i_node_)\n",
    "        node_states_[i_node_] = \"I\"\n",
    "        i_nodes_[i_node_] = ti\n",
    "\n",
    "    # Main simulation loop\n",
    "    t_ = 0\n",
    "    while True:\n",
    "        # Vaccination uptake simulation\n",
    "        for v_node_ in set(random.sample(s_nodes_, min(vaccinations_per_tick, len(s_nodes_)))):\n",
    "            s_nodes_.remove(v_node_)\n",
    "            v_nodes_.add(v_node_)\n",
    "            node_states_[v_node_] = \"V\"\n",
    "\n",
    "        # Simulate all the infected nodes\n",
    "        for i_node_ in set(i_nodes_):\n",
    "            i_nodes_[i_node_] -= 1\n",
    "\n",
    "            # Simulate neighbour infection\n",
    "            for neighbour_ in network_[i_node_]:\n",
    "                # Simulate infection if susceptible\n",
    "                if node_states_[neighbour_] == \"S\" and random.random() < p_i_s:\n",
    "                    s_nodes_.remove(neighbour_)\n",
    "                    i_nodes_[neighbour_] = ti\n",
    "                    node_states_[neighbour_] = \"I\"\n",
    "\n",
    "                # Simulate infection if vaccinated\n",
    "                if node_states_[neighbour_] == \"V\" and random.random() < p_i_v:\n",
    "                    v_nodes_.remove(neighbour_)\n",
    "                    vi_nodes_[neighbour_] = ti\n",
    "                    node_states_[neighbour_] = \"VI\"\n",
    "\n",
    "            # Remove those who have been infected for ti ticks\n",
    "            if i_nodes_[i_node_] == 0:\n",
    "                i_nodes_.pop(i_node_)\n",
    "                node_states_[i_node_] = \"R\"\n",
    "\n",
    "        # Simulate all the infected vaccinated nodes\n",
    "        for vi_node_ in set(vi_nodes_):\n",
    "            vi_nodes_[vi_node_] -= 1\n",
    "\n",
    "            # Simulate neighbour infection\n",
    "            for neighbour_ in network_[vi_node_]:\n",
    "                # Simulate infection if susceptible\n",
    "                if node_states_[neighbour_] == \"S\" and random.random() < p_vi_s:\n",
    "                    s_nodes_.remove(neighbour_)\n",
    "                    i_nodes_[neighbour_] = ti\n",
    "                    node_states_[neighbour_] = \"I\"\n",
    "\n",
    "                # Simulate infection if vaccinated\n",
    "                if node_states_[neighbour_] == \"V\" and random.random() < p_vi_v:\n",
    "                    v_nodes_.remove(neighbour_)\n",
    "                    vi_nodes_[neighbour_] = ti\n",
    "                    node_states_[neighbour_] = \"VI\"\n",
    "\n",
    "            # Remove those who have been infected for ti ticks\n",
    "            if vi_nodes_[vi_node_] == 0:\n",
    "                vi_nodes_.pop(vi_node_)\n",
    "                node_states_[vi_node_] = \"R\"\n",
    "\n",
    "        t_ += 1\n",
    "\n",
    "        if t_ > 1000:\n",
    "            break"
   ],
   "metadata": {
    "collapsed": false,
    "pycharm": {
     "name": "#%%\n"
    }
   }
  },
  {
   "cell_type": "code",
   "execution_count": 30,
   "outputs": [],
   "source": [
    "network = vdws_network(200000, 25, 0.01)"
   ],
   "metadata": {
    "collapsed": false,
    "pycharm": {
     "name": "#%%\n"
    }
   }
  },
  {
   "cell_type": "code",
   "execution_count": 37,
   "outputs": [],
   "source": [
    "epidemic(\n",
    "    network,\n",
    "    0.01,\n",
    "    0.01,\n",
    "    0.01,\n",
    "    0.01,\n",
    "    400,\n",
    "    2\n",
    ")"
   ],
   "metadata": {
    "collapsed": false,
    "pycharm": {
     "name": "#%%\n"
    }
   }
  },
  {
   "cell_type": "code",
   "execution_count": null,
   "outputs": [],
   "source": [],
   "metadata": {
    "collapsed": false,
    "pycharm": {
     "name": "#%%\n"
    }
   }
  }
 ],
 "metadata": {
  "kernelspec": {
   "display_name": "Python 3",
   "language": "python",
   "name": "python3"
  },
  "language_info": {
   "codemirror_mode": {
    "name": "ipython",
    "version": 3
   },
   "file_extension": ".py",
   "mimetype": "text/x-python",
   "name": "python",
   "nbconvert_exporter": "python",
   "pygments_lexer": "ipython3",
   "version": "3.7.4"
  }
 },
 "nbformat": 4,
 "nbformat_minor": 2
}