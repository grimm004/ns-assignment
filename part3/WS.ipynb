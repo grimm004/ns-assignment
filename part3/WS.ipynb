{
 "cells": [
  {
   "cell_type": "code",
   "execution_count": 1,
   "metadata": {},
   "outputs": [],
   "source": [
    "import random\n",
    " \n",
    "def make_ws_graph(num_nodes, clockwise_neighbours, rewiring_prob):\n",
    "    \"\"\"Returns a dictionary to a undirected graph with num_nodes nodes; keys are nodes, values are list of neighbours.\n",
    "    The nodes of the graph are numbered 0 to num_nodes - 1.\n",
    "    Node i initially joined to i+1, i+2, ... , i+d mod N and i-1, i-2, ... , i-d mod N\n",
    "    where d is the no. of clockwise neighbours.\n",
    "    Each edge from i to j replaced with probability given with edge from i to randomly chosen k\n",
    "    \"\"\"\n",
    "    \n",
    "    #initialize empty graph\n",
    "    ws_graph = {}\n",
    "    for vertex in range(num_nodes): ws_graph[vertex] = []\n",
    "\n",
    "    #add edges from each vertex to clockwise neighbours\n",
    "    for vertex in range(num_nodes):                                             #consider each vertex\n",
    "        for neighbour in range(vertex + 1, vertex + clockwise_neighbours + 1):  #consider each clockwise neighbour\n",
    "            neighbour = neighbour % num_nodes                                   #correct node label if value too high\n",
    "            ws_graph[vertex] += [neighbour]                                     #add edge to dictionary\n",
    "            ws_graph[neighbour] += [vertex]                                     #and again (each edge corresponds to two adjancencies)\n",
    "\n",
    "    #rewiring\n",
    "    for vertex in range(num_nodes):                                             #consider each vertex\n",
    "        for neighbour in range(vertex + 1, vertex + clockwise_neighbours + 1):  #consider each clockwise neighbour\n",
    "            neighbour = neighbour % num_nodes                                   #correct node label if value too high\n",
    "            random_number = random.random()                                     #generate random number\n",
    "            if random_number < rewiring_prob:                                   #decide whether to rewire\n",
    "                random_node = random.randint(0, num_nodes-1)                    #choose random node\n",
    "                if random_node != vertex and random_node not in ws_graph[vertex]:   #make sure no loops or duplicate edges\n",
    "                    ws_graph[vertex].remove(neighbour)                          #delete edge from dictionary          \n",
    "                    ws_graph[neighbour].remove(vertex)                          #in two places\n",
    "                    ws_graph[vertex] += [random_node]                           #add new edge to dictionary\n",
    "                    ws_graph[random_node] += [vertex]                           #in two places\n",
    "    \n",
    "    return ws_graph"
   ]
  }
 ],
 "metadata": {
  "kernelspec": {
   "display_name": "Python 3",
   "language": "python",
   "name": "python3"
  },
  "language_info": {
   "codemirror_mode": {
    "name": "ipython",
    "version": 3
   },
   "file_extension": ".py",
   "mimetype": "text/x-python",
   "name": "python",
   "nbconvert_exporter": "python",
   "pygments_lexer": "ipython3",
   "version": "3.7.4"
  }
 },
 "nbformat": 4,
 "nbformat_minor": 2
}
