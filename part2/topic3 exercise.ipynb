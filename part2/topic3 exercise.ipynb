{
 "cells": [
  {
   "cell_type": "markdown",
   "metadata": {
    "pycharm": {
     "name": "#%% md\n"
    }
   },
   "source": [
    "# Networks and their Structure Assignment\n",
    "\n",
    "## Network Science Topic 3\n",
    "\n",
    "Note that the networks in this exercise are all undirected.\n",
    "\n",
    "We recall some definitions and introduce some new ones.\n",
    "\n",
    "Let $d_{ij}$ be the distance (the length of the shortest path) between vertices $i$ to $j$.\n",
    "\n",
    "Then the *closeness centrality* of vertex $j$ is    $\\displaystyle{ \\mbox{CC}(j)= \\frac{1}{\\sum_i d_{ij}}}$.\n",
    "\n",
    "The *nearness centrality* of vertex $j$ is $\\displaystyle{ \\mbox{NC}(j)= \\sum_i  \\frac{1}{d_{ij}}}$.  In both these definitions, the sums are over all vertices $i$, $i \\neq j$, in the network.\n",
    "\n",
    "The *degree centrality* of vertex $j$ is simply its degree (the number of neighbours it has) and is denoted $\\mbox{DC}(j)$.\n",
    "\n",
    "The *adjacency centrality* of vertex $j$ is $ \\mbox{AC}(j)=\\displaystyle{ \\frac{1}{d_j} \\sum_i \\frac{d_j - d_i}{d_j+d_i} }$ where the sum is over all vertices $i$ that are adjacent to $j$ and $d_i$ denotes the degree of a vertex.  (So $\\mbox{DC}(j)$ and $d_j$ are different notations for the same measure.)\n",
    "\n",
    "1. [5 marks]  Calculate the values of the four centrality measures defined above on each vertex in the network below.  (The diagram and the dictionary are two representations of the same network.)   Present your answer as four lists --- one for each centrality measure --- that gives the vertices and the calculated values ordered by those values.\n",
    "\n",
    "\n",
    "```python\n",
    "network = {1:  [4],\n",
    "           2:  [4],\n",
    "           3:  [4],\n",
    "           4:  [1, 2, 3, 5, 6],\n",
    "           5:  [4],\n",
    "           6:  [4, 7, 8, 9, 10, 11],\n",
    "           7:  [6, 8, 11],\n",
    "           8:  [6, 7, 9, 11],\n",
    "           9:  [6, 8, 10],\n",
    "           10: [6, 9, 11, 12],\n",
    "           11: [6, 7, 8, 10],\n",
    "           12: [10]}\n",
    "           \n",
    "```\n",
    "\n",
    "<img src=\"example.jpg\" width=\"400\">\n"
   ]
  },
  {
   "cell_type": "code",
   "execution_count": 64,
   "outputs": [],
   "source": [
    "import itertools\n",
    "from typing import Dict, Set, Optional, Tuple, List, Generator, Hashable, Literal\n",
    "\n",
    "Node = Vertex = Hashable\n",
    "Network = Graph = Dict[Node, Set[Node]]"
   ],
   "metadata": {
    "collapsed": false,
    "pycharm": {
     "name": "#%%\n"
    }
   }
  },
  {
   "cell_type": "code",
   "execution_count": 65,
   "outputs": [],
   "source": [
    "def bfs(\n",
    "        graph_: Graph,\n",
    "        start_node_: Node,\n",
    "        visited_: Optional[Set[Node]] = None\n",
    ") -> Generator[Tuple[Node, int], None, None]:\n",
    "    if visited_ is None:\n",
    "        visited_ = set()\n",
    "\n",
    "    queue_: List[Tuple[Node, int]] = [(start_node_, 0)]\n",
    "\n",
    "    while queue_:\n",
    "        node_, distance_ = queue_.pop(0)\n",
    "        visited_.add(node_)\n",
    "\n",
    "        yield node_, distance_\n",
    "\n",
    "        for neighbour_ in graph_[node_]:\n",
    "            if neighbour_ not in visited_:\n",
    "                queue_.append((neighbour_, distance_ + 1))\n",
    "\n",
    "\n",
    "def distance(graph_: Graph, start_node_: Node, end_node_: Node) -> int:\n",
    "    for node_, distance_ in bfs(graph_, start_node_):\n",
    "        if node_ == end_node_:\n",
    "            return distance_\n",
    "    return -1\n",
    "\n",
    "\n",
    "def distances(graph_: Graph, start_node_: Node) -> Dict[int, int]:\n",
    "    return {node_: distance_ for node_, distance_ in bfs(graph_, start_node_)}\n",
    "\n",
    "\n",
    "def all_distances(graph_: Graph) -> Dict[Tuple[Node, Node], int]:\n",
    "    return {(start_node_, end_node_): distance_\n",
    "            for start_node_ in sorted(list(graph_))\n",
    "            for end_node_, distance_ in sorted(list(distances(graph_, start_node_).items()))}\n",
    "\n",
    "\n",
    "def closeness_centralities(\n",
    "        graph_: Graph,\n",
    "        graph_distances_: Optional[Dict[Tuple[Node, Node], int]] = None\n",
    ") -> Dict[Node, float]:\n",
    "    if graph_distances_ is None:\n",
    "        graph_distances_ = all_distances(graph_)\n",
    "    return {\n",
    "        node_: 1.0 / sum([\n",
    "            graph_distances_[(node_, other_node_)]\n",
    "            for other_node_ in graph_\n",
    "            if node_ != other_node_\n",
    "        ])\n",
    "        for node_ in graph_\n",
    "    }\n",
    "\n",
    "\n",
    "def nearness_centralities(\n",
    "        graph_: Graph,\n",
    "        graph_distances_: Optional[Dict[Tuple[Node, Node], int]] = None\n",
    ") -> Dict[Node, float]:\n",
    "    if graph_distances_ is None:\n",
    "        graph_distances_ = all_distances(graph_)\n",
    "    return {\n",
    "        node_: sum([\n",
    "            1.0 / graph_distances_[(node_, other_node_)]\n",
    "            for other_node_ in graph_\n",
    "            if node_ != other_node_\n",
    "        ])\n",
    "        for node_ in graph_\n",
    "    }\n",
    "\n",
    "\n",
    "def degree_centralities(graph_: Graph) -> Dict[Node, int]:\n",
    "    return {\n",
    "        node_: len(graph_[node_])\n",
    "        for node_ in graph_\n",
    "    }\n",
    "\n",
    "\n",
    "def adjacency_centralities(\n",
    "        graph_: Graph,\n",
    "        degree_centralities_: Optional[Dict[Node, int]] = None\n",
    ") -> Dict[Node, float]:\n",
    "    if degree_centralities_ is None:\n",
    "        degree_centralities_ = degree_centralities(graph_)\n",
    "    return {\n",
    "        node_: (1.0 / degree_centralities_[node_]) * sum([\n",
    "            (degree_centralities_[node_] - degree_centralities_[adjacent_node_]) /\n",
    "            (degree_centralities_[node_] + degree_centralities_[adjacent_node_])\n",
    "            for adjacent_node_ in graph_[node_]\n",
    "        ])\n",
    "        for node_ in graph_\n",
    "    }"
   ],
   "metadata": {
    "collapsed": false,
    "pycharm": {
     "name": "#%%\n"
    }
   }
  },
  {
   "cell_type": "code",
   "execution_count": 66,
   "outputs": [
    {
     "name": "stdout",
     "output_type": "stream",
     "text": [
      "j\t|\tCC(j)\tNC(j)\tDC(j)\tAC(j)\n",
      "----|-----------------------------------\n",
      "1\t|\t0.0303\t4.5333\t  1\t\t-0.6667\n",
      "2\t|\t0.0303\t4.5333\t  1\t\t-0.6667\n",
      "3\t|\t0.0303\t4.5333\t  1\t\t-0.6667\n",
      "4\t|\t0.0435\t7.0833\t  5\t\t0.5152\n",
      "5\t|\t0.0303\t4.5333\t  1\t\t-0.6667\n",
      "6\t|\t0.0476\t6.3333\t  6\t\t0.2263\n",
      "7\t|\t0.0303\t4.4167\t  3\t\t-0.2063\n",
      "8\t|\t0.0333\t5.1667\t  4\t\t0.0214\n",
      "9\t|\t0.0333\t5.1667\t  3\t\t-0.2063\n",
      "10\t|\t0.0345\t5.6667\t  4\t\t0.1357\n",
      "11\t|\t0.0345\t5.3333\t  4\t\t-0.0143\n",
      "12\t|\t0.0256\t3.9667\t  1\t\t-0.6000\n"
     ]
    }
   ],
   "source": [
    "network: Network = {\n",
    "    1: {4},\n",
    "    2: {4},\n",
    "    3: {4},\n",
    "    4: {1, 2, 3, 5, 6},\n",
    "    5: {4},\n",
    "    6: {4, 7, 8, 9, 10, 11},\n",
    "    7: {6, 8, 11},\n",
    "    8: {6, 7, 9, 11},\n",
    "    9: {6, 8, 10},\n",
    "    10: {6, 9, 11, 12},\n",
    "    11: {6, 7, 8, 10},\n",
    "    12: {10}\n",
    "}\n",
    "\n",
    "# Compute the distance from every node to every other node in the network\n",
    "d = all_distances(network)\n",
    "\n",
    "# Compute the four centrality measure values for each vertex\n",
    "ccs = closeness_centralities(network, d)\n",
    "ncs = nearness_centralities(network, d)\n",
    "dcs = degree_centralities(network)\n",
    "acs = adjacency_centralities(network, dcs)\n",
    "\n",
    "# Print the computed values in a table\n",
    "print(\n",
    "    \"j\\t|\\tCC(j)\\tNC(j)\\tDC(j)\\tAC(j)\\n\" +\n",
    "    \"-\" * 4 + \"|\" + \"-\" * 35 + \"\\n\" +\n",
    "    \"\\n\".join([\n",
    "        f\"{j}\\t|\\t\"\n",
    "        f\"{ccs[j]:.4f}\\t\"\n",
    "        f\"{ncs[j]:.4f}\\t\"\n",
    "        f\"  {dcs[j]}\\t\\t\"\n",
    "        f\"{acs[j]:.4f}\"\n",
    "        for j in network\n",
    "    ])\n",
    ")"
   ],
   "metadata": {
    "collapsed": false,
    "pycharm": {
     "name": "#%%\n"
    }
   }
  },
  {
   "cell_type": "markdown",
   "source": [
    "2. [20 marks] Obtain the three datasets in topic3networks.zip (under Topic 3 on Learn Ultra, see the descriptions below).  Load these networks.  Again, they are all undirected.  We wish also to work with connected graphs so find the largest connected component of each and discard other vertices.\n",
    "\n",
    " For each dataset, for each of the four centrality measures, list, in order, the 20 vertices with the highest values of that measure (include more if the values are tied).  Comment on whether you think, based on what you have found, that nearness centrality is a good alternative to closeness centrality and that adjacency centrality is a good alternative to degree centrality.\n",
    "\n",
    "The datasets:\n",
    "* london_transport_raw_edges.txt:  The network is of London rail and underground stations that are linked if they are adjacent on some line.  The second and third items on each line in the file are a pair of nodes that are joined by an edge (the first item describes how they are linked and can be ignored for this exercise).\n",
    "* Roget.txt: This is a network of words that are linked if they appear together in a thesaurus.  At the start of the file is a list of words (the nodes) and their numeric identifiers.    Then there are lists (one per line) of words that appear together in the thesaurus.  There should be an edge between any pair of nodes that appear in the same list.  For example, the list 3 4 323 325 implies the existence of six edges: (3,4), (3, 323), (3, 325), (4, 323), (4, 325), (323, 325)\n",
    "* CCSB-Y2H.txt: The network is of interactions amongst proteins in yeast (living cells can be considered as complex webs of macromolecular interactions known as interactome networks).  The first two items on each line are a pair of nodes joined by\n",
    "an edge (the rest of the line can be ignored)."
   ],
   "metadata": {
    "collapsed": false
   }
  },
  {
   "cell_type": "code",
   "execution_count": 67,
   "outputs": [],
   "source": [
    "def load_london_transport(filename_: str) -> Network:\n",
    "    network_: Network = {}\n",
    "    with open(filename_, \"rt\") as file_:\n",
    "        for line_ in file_:\n",
    "            _, left_node_, right_node_ = line_.rstrip().split()\n",
    "            if left_node_ not in network_:\n",
    "                network_[left_node_] = set()\n",
    "            if right_node_ not in network_:\n",
    "                network_[right_node_] = set()\n",
    "            if left_node_ != right_node_:\n",
    "                network_[left_node_].add(right_node_)\n",
    "                network_[right_node_].add(left_node_)\n",
    "    return network_\n",
    "\n",
    "\n",
    "london_transport_network: Network = load_london_transport(\"./topic3networks/london_transport_raw.edges.txt\")"
   ],
   "metadata": {
    "collapsed": false,
    "pycharm": {
     "name": "#%%\n"
    }
   }
  },
  {
   "cell_type": "code",
   "execution_count": 68,
   "outputs": [],
   "source": [
    "def load_roget(filename_: str) -> Network:\n",
    "    network_: Network = {}\n",
    "    with open(filename_, \"rt\") as file_:\n",
    "        state_: Literal[\"vertex-count\", \"vertex-ids\", \"arcs-title\", \"arcs-list\"] = \"vertex-count\"\n",
    "        vertex_count_: int = 0\n",
    "        vertex_names_: Dict[int, str] = {}\n",
    "        for line_ in file_:\n",
    "            line_: str = line_.rstrip()\n",
    "            if state_ == \"vertex-count\":\n",
    "                left_, right_ = line_.split()\n",
    "                assert left_ == \"*Vertices\"\n",
    "                vertex_count_ = int(right_)\n",
    "                state_ = \"vertex-ids\"\n",
    "            elif state_ == \"vertex-ids\":\n",
    "                left_, *right_ = line_.split()\n",
    "                vertex_name_ = \" \".join(right_).replace(\"\\\"\", \"\")\n",
    "                vertex_id_: int = int(left_)\n",
    "                vertex_names_[vertex_id_] = vertex_name_\n",
    "                network_[vertex_name_] = set()\n",
    "                if vertex_id_ == vertex_count_:\n",
    "                    state_ = \"arcs-title\"\n",
    "            elif state_ == \"arcs-title\":\n",
    "                assert line_ == \"*Arcslist\"\n",
    "                state_ = \"arcs-list\"\n",
    "            elif state_ == \"arcs-list\":\n",
    "                # noinspection PyTypeChecker\n",
    "                nodes_ = map(vertex_names_.get, map(int, line_.split()))\n",
    "                for left_node_, right_node_ in itertools.permutations(nodes_, 2):\n",
    "                    if left_node_ != right_node_:\n",
    "                        network_[left_node_].add(right_node_)\n",
    "    return network_\n",
    "\n",
    "\n",
    "roget_network: Network = load_roget(\"./topic3networks/Roget.txt\")"
   ],
   "metadata": {
    "collapsed": false,
    "pycharm": {
     "name": "#%%\n"
    }
   }
  },
  {
   "cell_type": "code",
   "execution_count": 70,
   "outputs": [],
   "source": [
    "def load_ccsb_y2h(filename_) -> Network:\n",
    "    network_: Network = {}\n",
    "    with open(filename_, \"rt\") as file_:\n",
    "        state_: Literal[\"first-line\", \"edges\"] = \"first-line\"\n",
    "        for line_ in file_:\n",
    "            line_ = line_.rstrip()\n",
    "            if state_ == \"first-line\":\n",
    "                assert hash(line_) == 7186263516352579066\n",
    "                state_ = \"edges\"\n",
    "            elif state_ == \"edges\":\n",
    "                left_node_, right_node_, *_ = line_.split(\"\\t\")\n",
    "                if left_node_ not in network_:\n",
    "                    network_[left_node_] = set()\n",
    "                if right_node_ not in network_:\n",
    "                    network_[right_node_] = set()\n",
    "                if left_node_ != right_node_:\n",
    "                    network_[left_node_].add(right_node_)\n",
    "                    network_[right_node_].add(left_node_)\n",
    "    return network_\n",
    "\n",
    "\n",
    "ccsb_y2h_network: Network = load_ccsb_y2h(\"./topic3networks/CCSB-Y2H.txt\")"
   ],
   "metadata": {
    "collapsed": false,
    "pycharm": {
     "name": "#%%\n"
    }
   }
  },
  {
   "cell_type": "code",
   "execution_count": null,
   "outputs": [],
   "source": [],
   "metadata": {
    "collapsed": false,
    "pycharm": {
     "name": "#%%\n"
    }
   }
  }
 ],
 "metadata": {
  "kernelspec": {
   "display_name": "Python 3",
   "language": "python",
   "name": "python3"
  },
  "language_info": {
   "codemirror_mode": {
    "name": "ipython",
    "version": 3
   },
   "file_extension": ".py",
   "mimetype": "text/x-python",
   "name": "python",
   "nbconvert_exporter": "python",
   "pygments_lexer": "ipython3",
   "version": "3.7.4"
  }
 },
 "nbformat": 4,
 "nbformat_minor": 2
}