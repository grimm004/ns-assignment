{
 "cells": [
  {
   "cell_type": "markdown",
   "metadata": {
    "pycharm": {
     "name": "#%% md\n"
    }
   },
   "source": [
    "# Networks and their Structure Assignment\n",
    "\n",
    "## Network Science Topic 3\n",
    "\n",
    "Note that the networks in this exercise are all undirected.\n",
    "\n",
    "We recall some definitions and introduce some new ones.\n",
    "\n",
    "Let $d_{ij}$ be the distance (the length of the shortest path) between vertices $i$ to $j$.\n",
    "\n",
    "Then the *closeness centrality* of vertex $j$ is    $\\displaystyle{ \\mbox{CC}(j)= \\frac{1}{\\sum_i d_{ij}}}$.\n",
    "\n",
    "The *nearness centrality* of vertex $j$ is $\\displaystyle{ \\mbox{NC}(j)= \\sum_i  \\frac{1}{d_{ij}}}$.  In both these definitions, the sums are over all vertices $i$, $i \\neq j$, in the network.\n",
    "\n",
    "The *degree centrality* of vertex $j$ is simply its degree (the number of neighbours it has) and is denoted $\\mbox{DC}(j)$.\n",
    "\n",
    "The *adjacency centrality* of vertex $j$ is $ \\mbox{AC}(j)=\\displaystyle{ \\frac{1}{d_j} \\sum_i \\frac{d_j - d_i}{d_j+d_i} }$ where the sum is over all vertices $i$ that are adjacent to $j$ and $d_i$ denotes the degree of a vertex.  (So $\\mbox{DC}(j)$ and $d_j$ are different notations for the same measure.)\n",
    "\n",
    "1. [5 marks]  Calculate the values of the four centrality measures defined above on each vertex in the network below.  (The diagram and the dictionary are two representations of the same network.)   Present your answer as four lists --- one for each centrality measure --- that gives the vertices and the calculated values ordered by those values.\n",
    "\n",
    "\n",
    "```python\n",
    "network = {1:  [4],\n",
    "           2:  [4],\n",
    "           3:  [4],\n",
    "           4:  [1, 2, 3, 5, 6],\n",
    "           5:  [4],\n",
    "           6:  [4, 7, 8, 9, 10, 11],\n",
    "           7:  [6, 8, 11],\n",
    "           8:  [6, 7, 9, 11],\n",
    "           9:  [6, 8, 10],\n",
    "           10: [6, 9, 11, 12],\n",
    "           11: [6, 7, 8, 10],\n",
    "           12: [10]}\n",
    "           \n",
    "```\n",
    "\n",
    "<img src=\"example.jpg\" width=\"400\">\n"
   ]
  },
  {
   "cell_type": "code",
   "execution_count": 1,
   "outputs": [],
   "source": [
    "from typing import Dict, Set, Optional, Tuple, List, Generator, Hashable, Literal, Union\n",
    "import itertools\n",
    "import tqdm\n",
    "\n",
    "Node = Vertex = Hashable\n",
    "Network = Graph = Dict[Node, Set[Node]]"
   ],
   "metadata": {
    "collapsed": false,
    "pycharm": {
     "name": "#%%\n"
    }
   }
  },
  {
   "cell_type": "code",
   "execution_count": 2,
   "outputs": [],
   "source": [
    "def bfs(\n",
    "        graph_: Graph,\n",
    "        start_node_: Node\n",
    ") -> Generator[Tuple[Node, int], None, None]:\n",
    "    visited_: Set[Node] = {start_node_}\n",
    "    queue_: List[Tuple[Node, int]] = [(start_node_, 0)]\n",
    "\n",
    "    while queue_:\n",
    "        node_, distance_ = queue_.pop(0)\n",
    "\n",
    "        yield node_, distance_\n",
    "\n",
    "        for neighbour_ in graph_[node_]:\n",
    "            if neighbour_ not in visited_:\n",
    "                visited_.add(neighbour_)\n",
    "                queue_.append((neighbour_, distance_ + 1))\n",
    "\n",
    "\n",
    "def distance(graph_: Graph, start_node_: Node, end_node_: Node) -> int:\n",
    "    for node_, distance_ in bfs(graph_, start_node_):\n",
    "        if node_ == end_node_:\n",
    "            return distance_\n",
    "    return -1\n",
    "\n",
    "\n",
    "def distances(graph_: Graph, start_node_: Node) -> Dict[int, int]:\n",
    "    return {node_: distance_ for node_, distance_ in bfs(graph_, start_node_)}\n",
    "\n",
    "\n",
    "def all_distances(graph_: Graph) -> Dict[Tuple[Node, Node], int]:\n",
    "    return {(start_node_, end_node_): distance_\n",
    "            for start_node_ in tqdm.tqdm(sorted(list(graph_)))\n",
    "            for end_node_, distance_ in sorted(list(distances(graph_, start_node_).items()))}\n",
    "\n",
    "\n",
    "def closeness_centralities(\n",
    "        graph_: Graph,\n",
    "        graph_distances_: Optional[Dict[Tuple[Node, Node], int]] = None\n",
    ") -> Dict[Node, float]:\n",
    "    if graph_distances_ is None:\n",
    "        graph_distances_ = all_distances(graph_)\n",
    "    return {\n",
    "        node_: 1.0 / sum([\n",
    "            graph_distances_[(node_, other_node_)]\n",
    "            for other_node_ in graph_\n",
    "            if node_ != other_node_\n",
    "        ])\n",
    "        for node_ in graph_\n",
    "    }\n",
    "\n",
    "\n",
    "def nearness_centralities(\n",
    "        graph_: Graph,\n",
    "        graph_distances_: Optional[Dict[Tuple[Node, Node], int]] = None\n",
    ") -> Dict[Node, float]:\n",
    "    if graph_distances_ is None:\n",
    "        graph_distances_ = all_distances(graph_)\n",
    "    return {\n",
    "        node_: sum([\n",
    "            1.0 / graph_distances_[(node_, other_node_)]\n",
    "            for other_node_ in graph_\n",
    "            if node_ != other_node_\n",
    "        ])\n",
    "        for node_ in graph_\n",
    "    }\n",
    "\n",
    "\n",
    "def degree_centralities(graph_: Graph) -> Dict[Node, int]:\n",
    "    return {\n",
    "        node_: len(graph_[node_])\n",
    "        for node_ in graph_\n",
    "    }\n",
    "\n",
    "\n",
    "def adjacency_centralities(\n",
    "        graph_: Graph,\n",
    "        degree_centralities_: Optional[Dict[Node, int]] = None\n",
    ") -> Dict[Node, float]:\n",
    "    if degree_centralities_ is None:\n",
    "        degree_centralities_ = degree_centralities(graph_)\n",
    "    return {\n",
    "        node_: (1.0 / degree_centralities_[node_]) * sum([\n",
    "            (degree_centralities_[node_] - degree_centralities_[adjacent_node_]) /\n",
    "            (degree_centralities_[node_] + degree_centralities_[adjacent_node_])\n",
    "            for adjacent_node_ in graph_[node_]\n",
    "        ])\n",
    "        for node_ in graph_\n",
    "    }"
   ],
   "metadata": {
    "collapsed": false,
    "pycharm": {
     "name": "#%%\n"
    }
   }
  },
  {
   "cell_type": "code",
   "execution_count": 3,
   "outputs": [],
   "source": [
    "def compute_centralities(\n",
    "        network_: Network\n",
    ") -> Tuple[Dict[Node, float], Dict[Node, float], Dict[Node, int], Dict[Node, float]]:\n",
    "    # Compute the distance from every node to every other node in the network\n",
    "    d_ = all_distances(network_)\n",
    "\n",
    "    # Compute the four centrality measure values for each vertex\n",
    "    ccs_ = closeness_centralities(network_, d_)\n",
    "    ncs_ = nearness_centralities(network_, d_)\n",
    "    dcs_ = degree_centralities(network_)\n",
    "    acs_ = adjacency_centralities(network_, dcs_)\n",
    "\n",
    "    return ccs_, ncs_, dcs_, acs_\n",
    "\n",
    "\n",
    "def format_centrality(\n",
    "        centralities_: List[Tuple[Node, Union[int, float]]],\n",
    "        n_: int = 20,\n",
    "        precision_: int = 4,\n",
    "        n_max_: int = 30\n",
    ") -> str:\n",
    "    n_unique_: int = n_\n",
    "    while (\n",
    "            len(set(list(zip(*centralities_[:n_unique_]))[1])) < n_ and\n",
    "            n_unique_ < len(centralities_) and\n",
    "            n_unique_ < n_max_\n",
    "    ): n_unique_ += 1\n",
    "    return \"\\n\".join([\n",
    "        f\"{i_ + 1:<5}{node_:^20} - {centrality_:.{precision_}f}\"\n",
    "        for i_, (node_, centrality_) in enumerate(centralities_[:n_unique_])\n",
    "    ])\n",
    "\n",
    "\n",
    "# noinspection PyTypeChecker\n",
    "def sort_centrality(centrality_: Dict[Node, Union[int, float]]) -> List[Tuple[Node, Union[int, float]]]:\n",
    "    return list(map(lambda n_: (n_, centrality_[n_]), sorted(centrality_, key=centrality_.get, reverse=True)))\n",
    "\n",
    "\n",
    "def format_centralities(\n",
    "        ccs_: Dict[Node, float],\n",
    "        ncs_: Dict[Node, float],\n",
    "        dcs_: Dict[Node, int],\n",
    "        acs_: Dict[Node, float],\n",
    "        n_: int = 20,\n",
    "        n_max_: int = 40\n",
    ") -> str:\n",
    "    cc_top_20_ = sort_centrality(ccs_)\n",
    "    nc_top_20_ = sort_centrality(ncs_)\n",
    "    dc_top_20_ = sort_centrality(dcs_)\n",
    "    ac_top_20_ = sort_centrality(acs_)\n",
    "    return (f\"Closeness Centrality:\\n\"\n",
    "            f\"{format_centrality(cc_top_20_, n_, 6, n_max_)}\\n\\n\"\n",
    "            f\"Nearness Centrality:\\n\"\n",
    "            f\"{format_centrality(nc_top_20_, n_, 6, n_max_)}\\n\\n\"\n",
    "            f\"Degree Centrality:\\n\"\n",
    "            f\"{format_centrality(dc_top_20_, n_, 0, n_max_)}\\n\\n\"\n",
    "            f\"Adjacency Centrality:\\n\"\n",
    "            f\"{format_centrality(ac_top_20_, n_, 6, n_max_)}\\n\")"
   ],
   "metadata": {
    "collapsed": false,
    "pycharm": {
     "name": "#%%\n"
    }
   }
  },
  {
   "cell_type": "code",
   "execution_count": 4,
   "outputs": [
    {
     "name": "stderr",
     "output_type": "stream",
     "text": [
      "100%|██████████| 12/12 [00:00<00:00, 12018.06it/s]"
     ]
    },
    {
     "name": "stdout",
     "output_type": "stream",
     "text": [
      "j\t|\tCC(j)\tNC(j)\tDC(j)\tAC(j)\n",
      "----|-----------------------------------\n",
      "1\t|\t0.0357\t4.9167\t  1\t\t-0.6667\n",
      "2\t|\t0.0357\t4.9167\t  1\t\t-0.6667\n",
      "3\t|\t0.0357\t4.9167\t  1\t\t-0.6667\n",
      "4\t|\t0.0556\t7.8333\t  5\t\t0.5152\n",
      "5\t|\t0.0357\t4.9167\t  1\t\t-0.6667\n",
      "6\t|\t0.0625\t8.5000\t  6\t\t0.2263\n",
      "7\t|\t0.0417\t6.1667\t  3\t\t-0.2063\n",
      "8\t|\t0.0435\t6.6667\t  4\t\t0.0214\n",
      "9\t|\t0.0435\t6.3333\t  3\t\t-0.2063\n",
      "10\t|\t0.0455\t6.8333\t  4\t\t0.1357\n",
      "11\t|\t0.0455\t6.8333\t  4\t\t-0.0143\n",
      "12\t|\t0.0312\t4.5000\t  1\t\t-0.6000\n"
     ]
    },
    {
     "name": "stderr",
     "output_type": "stream",
     "text": [
      "\n"
     ]
    }
   ],
   "source": [
    "network: Network = {\n",
    "    1: {4},\n",
    "    2: {4},\n",
    "    3: {4},\n",
    "    4: {1, 2, 3, 5, 6},\n",
    "    5: {4},\n",
    "    6: {4, 7, 8, 9, 10, 11},\n",
    "    7: {6, 8, 11},\n",
    "    8: {6, 7, 9, 11},\n",
    "    9: {6, 8, 10},\n",
    "    10: {6, 9, 11, 12},\n",
    "    11: {6, 7, 8, 10},\n",
    "    12: {10}\n",
    "}\n",
    "\n",
    "ccs, ncs, dcs, acs = compute_centralities(network)\n",
    "\n",
    "# Print the computed values in a table\n",
    "print(\n",
    "    \"j\\t|\\tCC(j)\\tNC(j)\\tDC(j)\\tAC(j)\\n\" +\n",
    "    \"-\" * 4 + \"|\" + \"-\" * 35 + \"\\n\" +\n",
    "    \"\\n\".join([\n",
    "        f\"{j}\\t|\\t\"\n",
    "        f\"{ccs[j]:.4f}\\t\"\n",
    "        f\"{ncs[j]:.4f}\\t\"\n",
    "        f\"  {dcs[j]}\\t\\t\"\n",
    "        f\"{acs[j]:.4f}\"\n",
    "        for j in network\n",
    "    ])\n",
    ")"
   ],
   "metadata": {
    "collapsed": false,
    "pycharm": {
     "name": "#%%\n"
    }
   }
  },
  {
   "cell_type": "markdown",
   "source": [
    "2. [20 marks] Obtain the three datasets in topic3networks.zip (under Topic 3 on Learn Ultra, see the descriptions below).  Load these networks.  Again, they are all undirected.  We wish also to work with connected graphs so find the largest connected component of each and discard other vertices.\n",
    "\n",
    " For each dataset, for each of the four centrality measures, list, in order, the 20 vertices with the highest values of that measure (include more if the values are tied).  Comment on whether you think, based on what you have found, that nearness centrality is a good alternative to closeness centrality and that adjacency centrality is a good alternative to degree centrality.\n",
    "\n",
    "The datasets:\n",
    "* london_transport_raw_edges.txt:  The network is of London rail and underground stations that are linked if they are adjacent on some line.  The second and third items on each line in the file are a pair of nodes that are joined by an edge (the first item describes how they are linked and can be ignored for this exercise).\n",
    "* Roget.txt: This is a network of words that are linked if they appear together in a thesaurus.  At the start of the file is a list of words (the nodes) and their numeric identifiers.    Then there are lists (one per line) of words that appear together in the thesaurus.  There should be an edge between any pair of nodes that appear in the same list.  For example, the list 3 4 323 325 implies the existence of six edges: (3,4), (3, 323), (3, 325), (4, 323), (4, 325), (323, 325)\n",
    "* CCSB-Y2H.txt: The network is of interactions amongst proteins in yeast (living cells can be considered as complex webs of macromolecular interactions known as interactome networks).  The first two items on each line are a pair of nodes joined by\n",
    "an edge (the rest of the line can be ignored)."
   ],
   "metadata": {
    "collapsed": false
   }
  },
  {
   "cell_type": "code",
   "execution_count": 5,
   "outputs": [],
   "source": [
    "def compute_largest_connected_component(graph_: Graph) -> Set[Node]:\n",
    "    largest_connected_component_: Set[Node] = set()\n",
    "    visited_: Set[Node] = set()\n",
    "    for current_node_ in tqdm.tqdm(list(graph_)):\n",
    "        if current_node_ not in visited_:\n",
    "            current_connected_component_ = set(map(lambda n: n[0], bfs(graph_, current_node_)))\n",
    "            visited_.update(current_connected_component_)\n",
    "            if len(current_connected_component_) > len(largest_connected_component_):\n",
    "                largest_connected_component_ = current_connected_component_\n",
    "    return largest_connected_component_\n",
    "\n",
    "\n",
    "def remove_nodes(graph_: Graph, nodes_: Set[Node]) -> Graph:\n",
    "    return {\n",
    "        node_: neighbours_ - nodes_\n",
    "        for node_, neighbours_ in graph_.items()\n",
    "        if node_ not in nodes_\n",
    "    }\n",
    "\n",
    "\n",
    "def keep_nodes(graph_: Graph, nodes_: Set[Node]) -> Graph:\n",
    "    return {\n",
    "        node_: neighbours_ & nodes_\n",
    "        for node_, neighbours_ in tqdm.tqdm(graph_.items())\n",
    "        if node_ in nodes_\n",
    "    }"
   ],
   "metadata": {
    "collapsed": false,
    "pycharm": {
     "name": "#%%\n"
    }
   }
  },
  {
   "cell_type": "code",
   "execution_count": 6,
   "outputs": [],
   "source": [
    "def load_london_transport(filename_: str) -> Network:\n",
    "    network_: Network = {}\n",
    "    with open(filename_, \"rt\") as file_:\n",
    "        for line_ in file_:\n",
    "            _, left_node_, right_node_ = line_.rstrip().split()\n",
    "            if left_node_ not in network_:\n",
    "                network_[left_node_] = set()\n",
    "            if right_node_ not in network_:\n",
    "                network_[right_node_] = set()\n",
    "            if left_node_ != right_node_:\n",
    "                network_[left_node_].add(right_node_)\n",
    "                network_[right_node_].add(left_node_)\n",
    "    return network_\n",
    "\n",
    "\n",
    "london_transport_network: Network = load_london_transport(\"./topic3networks/london_transport_raw.edges.txt\")"
   ],
   "metadata": {
    "collapsed": false,
    "pycharm": {
     "name": "#%%\n"
    }
   }
  },
  {
   "cell_type": "code",
   "execution_count": 7,
   "outputs": [],
   "source": [
    "def load_roget(filename_: str) -> Network:\n",
    "    network_: Network = {}\n",
    "    with open(filename_, \"rt\") as file_:\n",
    "        state_: Literal[\"vertex-count\", \"vertex-ids\", \"arcs-title\", \"arcs-list\"] = \"vertex-count\"\n",
    "        vertex_count_: int = 0\n",
    "        vertex_names_: Dict[int, str] = {}\n",
    "        for line_ in file_:\n",
    "            line_: str = line_.rstrip()\n",
    "            if state_ == \"vertex-count\":\n",
    "                left_, right_ = line_.split()\n",
    "                assert left_ == \"*Vertices\"\n",
    "                vertex_count_ = int(right_)\n",
    "                state_ = \"vertex-ids\"\n",
    "            elif state_ == \"vertex-ids\":\n",
    "                left_, *right_ = line_.split()\n",
    "                vertex_name_ = \" \".join(right_).replace(\"\\\"\", \"\")\n",
    "                vertex_id_: int = int(left_)\n",
    "                vertex_names_[vertex_id_] = vertex_name_\n",
    "                network_[vertex_name_] = set()\n",
    "                if vertex_id_ == vertex_count_:\n",
    "                    state_ = \"arcs-title\"\n",
    "            elif state_ == \"arcs-title\":\n",
    "                assert line_ == \"*Arcslist\"\n",
    "                state_ = \"arcs-list\"\n",
    "            elif state_ == \"arcs-list\":\n",
    "                # noinspection PyTypeChecker\n",
    "                nodes_ = map(vertex_names_.get, map(int, line_.split()))\n",
    "                for left_node_, right_node_ in itertools.permutations(nodes_, 2):\n",
    "                    if left_node_ != right_node_:\n",
    "                        network_[left_node_].add(right_node_)\n",
    "    return network_\n",
    "\n",
    "\n",
    "roget_network: Network = load_roget(\"./topic3networks/Roget.txt\")"
   ],
   "metadata": {
    "collapsed": false,
    "pycharm": {
     "name": "#%%\n"
    }
   }
  },
  {
   "cell_type": "code",
   "execution_count": 8,
   "outputs": [],
   "source": [
    "def load_ccsb_y2h(filename_) -> Network:\n",
    "    network_: Network = {}\n",
    "    with open(filename_, \"rt\") as file_:\n",
    "        state_: Literal[\"first-line\", \"edges\"] = \"first-line\"\n",
    "        for line_ in file_:\n",
    "            line_ = line_.rstrip()\n",
    "            if state_ == \"first-line\":\n",
    "                assert line_.startswith(\"from\")\n",
    "                state_ = \"edges\"\n",
    "            elif state_ == \"edges\":\n",
    "                left_node_, right_node_, *_ = line_.split(\"\\t\")\n",
    "                if left_node_ not in network_:\n",
    "                    network_[left_node_] = set()\n",
    "                if right_node_ not in network_:\n",
    "                    network_[right_node_] = set()\n",
    "                if left_node_ != right_node_:\n",
    "                    network_[left_node_].add(right_node_)\n",
    "                    network_[right_node_].add(left_node_)\n",
    "    return network_\n",
    "\n",
    "\n",
    "ccsb_y2h_network: Network = load_ccsb_y2h(\"./topic3networks/CCSB-Y2H.txt\")"
   ],
   "metadata": {
    "collapsed": false,
    "pycharm": {
     "name": "#%%\n"
    }
   }
  },
  {
   "cell_type": "markdown",
   "source": [
    "Now that the networks are loaded, compute the largest connected component for each one."
   ],
   "metadata": {
    "collapsed": false
   }
  },
  {
   "cell_type": "code",
   "execution_count": 9,
   "outputs": [
    {
     "name": "stderr",
     "output_type": "stream",
     "text": [
      "100%|██████████| 369/369 [00:00<00:00, 368850.85it/s]"
     ]
    },
    {
     "name": "stdout",
     "output_type": "stream",
     "text": [
      "London Transport Network largest connected component size: 369/369\n"
     ]
    },
    {
     "name": "stderr",
     "output_type": "stream",
     "text": [
      "\n"
     ]
    }
   ],
   "source": [
    "lcc_ltn = compute_largest_connected_component(london_transport_network)\n",
    "print(f\"London Transport Network largest connected component size: \"\n",
    "      f\"{len(lcc_ltn)}/{len(london_transport_network)}\")"
   ],
   "metadata": {
    "collapsed": false,
    "pycharm": {
     "name": "#%%\n"
    }
   }
  },
  {
   "cell_type": "markdown",
   "source": [
    "Next, remove the nodes from each network not in its largest connected component."
   ],
   "metadata": {
    "collapsed": false
   }
  },
  {
   "cell_type": "code",
   "execution_count": 10,
   "outputs": [
    {
     "name": "stderr",
     "output_type": "stream",
     "text": [
      "100%|██████████| 369/369 [00:00<?, ?it/s]\n"
     ]
    }
   ],
   "source": [
    "lcn_ltn = keep_nodes(london_transport_network, lcc_ltn)"
   ],
   "metadata": {
    "collapsed": false,
    "pycharm": {
     "name": "#%%\n"
    }
   }
  },
  {
   "cell_type": "markdown",
   "source": [
    "Compute the centralities for each network."
   ],
   "metadata": {
    "collapsed": false
   }
  },
  {
   "cell_type": "code",
   "execution_count": 11,
   "outputs": [
    {
     "name": "stderr",
     "output_type": "stream",
     "text": [
      "100%|██████████| 369/369 [00:00<00:00, 1892.32it/s]\n"
     ]
    }
   ],
   "source": [
    "centralities_ltn = compute_centralities(lcn_ltn)"
   ],
   "metadata": {
    "collapsed": false,
    "pycharm": {
     "name": "#%%\n"
    }
   }
  },
  {
   "cell_type": "code",
   "execution_count": 12,
   "outputs": [
    {
     "name": "stdout",
     "output_type": "stream",
     "text": [
      "Top 20 Roget nodes by centrality measure:\n",
      "Closeness Centrality:\n",
      "1         greenpark       - 0.000307\n",
      "2        westminster      - 0.000299\n",
      "3         bondstreet      - 0.000299\n",
      "4    kingscrossstpancras  - 0.000299\n",
      "5        oxfordcircus     - 0.000298\n",
      "6            bank         - 0.000295\n",
      "7          waterloo       - 0.000295\n",
      "8        bakerstreet      - 0.000294\n",
      "9           euston        - 0.000291\n",
      "10         victoria       - 0.000290\n",
      "11        farringdon      - 0.000290\n",
      "12          angel         - 0.000290\n",
      "13      hydeparkcorner    - 0.000288\n",
      "14         moorgate       - 0.000286\n",
      "15         barbican       - 0.000285\n",
      "16        oldstreet       - 0.000285\n",
      "17       warrenstreet     - 0.000284\n",
      "18     liverpoolstreet    - 0.000284\n",
      "19    highbury&islington  - 0.000284\n",
      "20     piccadillycircus   - 0.000284\n",
      "21       eustonsquare     - 0.000284\n",
      "22         holborn        - 0.000282\n",
      "23        embankment      - 0.000282\n",
      "\n",
      "Nearness Centrality:\n",
      "1         greenpark       - 59.520149\n",
      "2            bank         - 59.337140\n",
      "3    kingscrossstpancras  - 58.653404\n",
      "4        bakerstreet      - 58.287048\n",
      "5        oxfordcircus     - 57.841639\n",
      "6          waterloo       - 57.764826\n",
      "7         bondstreet      - 57.270153\n",
      "8        westminster      - 56.336035\n",
      "9           euston        - 55.735566\n",
      "10     liverpoolstreet    - 55.192732\n",
      "11         shadwell       - 54.335084\n",
      "12         moorgate       - 54.204632\n",
      "13    highbury&islington  - 53.699109\n",
      "14       warrenstreet     - 53.342849\n",
      "15       finchleyroad     - 53.279767\n",
      "16         victoria       - 53.002125\n",
      "17        embankment      - 52.955225\n",
      "18     piccadillycircus   - 52.680293\n",
      "19    tottenhamcourtroad  - 52.388650\n",
      "20       regentspark      - 52.347097\n",
      "\n",
      "Degree Centrality:\n",
      "1        bakerstreet      - 7\n",
      "2         stratford       - 7\n",
      "3    kingscrossstpancras  - 7\n",
      "4         paddington      - 6\n",
      "5        oxfordcircus     - 6\n",
      "6          waterloo       - 6\n",
      "7            bank         - 6\n",
      "8         earlscourt      - 6\n",
      "9          westham        - 6\n",
      "10        greenpark       - 6\n",
      "11       canningtown      - 6\n",
      "12    willesdenjunction   - 5\n",
      "13     liverpoolstreet    - 5\n",
      "14       turnhamgreen     - 5\n",
      "15          euston        - 5\n",
      "16         shadwell       - 5\n",
      "17     piccadillycircus   - 4\n",
      "18        embankment      - 4\n",
      "19      shepherdsbush     - 4\n",
      "20     nottinghillgate    - 4\n",
      "21        bondstreet      - 4\n",
      "22    tottenhamcourtroad  - 4\n",
      "23         holborn        - 4\n",
      "24         mileend        - 4\n",
      "25         victoria       - 4\n",
      "26       westminster      - 4\n",
      "27         moorgate       - 4\n",
      "28        actontown       - 4\n",
      "29       westbrompton     - 4\n",
      "30       whitechapel      - 4\n",
      "31       wembleypark      - 4\n",
      "32      westhampstead     - 4\n",
      "33       finchleyroad     - 4\n",
      "34       londonbridge     - 4\n",
      "35       canadawater      - 4\n",
      "36       canarywharf      - 4\n",
      "37        camdentown      - 4\n",
      "38     leicestersquare    - 4\n",
      "39        stockwell       - 4\n",
      "40       finsburypark     - 4\n",
      "\n",
      "Adjacency Centrality:\n",
      "1         paddington      - 0.480159\n",
      "2         stratford       - 0.474553\n",
      "3    kingscrossstpancras  - 0.459596\n",
      "4        bakerstreet      - 0.452525\n",
      "5        canningtown      - 0.416667\n",
      "6      chalfont&latimer   - 0.400000\n",
      "7         stockwell       - 0.400000\n",
      "8       blackhorseroad    - 0.400000\n",
      "9     willesdenjunction   - 0.365079\n",
      "10        earlscourt      - 0.338889\n",
      "11         westham        - 0.320513\n",
      "12       surreyquays      - 0.316667\n",
      "13         shadwell       - 0.308802\n",
      "14     finchleycentral    - 0.300000\n",
      "15         sydenham       - 0.300000\n",
      "16       turnhamgreen     - 0.293651\n",
      "17         waterloo       - 0.288889\n",
      "18     nottinghillgate    - 0.285714\n",
      "19         holborn        - 0.250000\n",
      "20       wembleypark      - 0.250000\n",
      "21      westhampstead     - 0.250000\n",
      "22       finsburypark     - 0.250000\n",
      "23       oxfordcircus     - 0.238889\n",
      "24          poplar        - 0.238095\n",
      "25   heathrowterminals123 - 0.233333\n",
      "\n"
     ]
    }
   ],
   "source": [
    "print(f\"Top 20 Roget nodes by centrality measure:\\n\"\n",
    "      f\"{format_centralities(*centralities_ltn)}\")"
   ],
   "metadata": {
    "collapsed": false,
    "pycharm": {
     "name": "#%%\n"
    }
   }
  },
  {
   "cell_type": "markdown",
   "source": [
    "Do the same for the Roget network..."
   ],
   "metadata": {
    "collapsed": false
   }
  },
  {
   "cell_type": "code",
   "execution_count": 13,
   "outputs": [
    {
     "name": "stderr",
     "output_type": "stream",
     "text": [
      "100%|██████████| 1022/1022 [00:00<00:00, 340826.80it/s]"
     ]
    },
    {
     "name": "stdout",
     "output_type": "stream",
     "text": [
      "Roget Network largest connected component size: 994/1022\n"
     ]
    },
    {
     "name": "stderr",
     "output_type": "stream",
     "text": [
      "\n"
     ]
    }
   ],
   "source": [
    "lcc_roget = compute_largest_connected_component(roget_network)\n",
    "print(f\"Roget Network largest connected component size: \"\n",
    "      f\"{len(lcc_roget)}/{len(roget_network)}\")"
   ],
   "metadata": {
    "collapsed": false,
    "pycharm": {
     "name": "#%%\n"
    }
   }
  },
  {
   "cell_type": "code",
   "execution_count": 14,
   "outputs": [
    {
     "name": "stderr",
     "output_type": "stream",
     "text": [
      "100%|██████████| 1022/1022 [00:00<00:00, 255472.83it/s]\n"
     ]
    }
   ],
   "source": [
    "lcn_roget = keep_nodes(roget_network, lcc_roget)"
   ],
   "metadata": {
    "collapsed": false,
    "pycharm": {
     "name": "#%%\n"
    }
   }
  },
  {
   "cell_type": "code",
   "execution_count": 15,
   "outputs": [
    {
     "name": "stderr",
     "output_type": "stream",
     "text": [
      "100%|██████████| 994/994 [00:03<00:00, 321.47it/s]\n"
     ]
    }
   ],
   "source": [
    "centralities_roget = compute_centralities(lcn_roget)"
   ],
   "metadata": {
    "collapsed": false,
    "pycharm": {
     "name": "#%%\n"
    }
   }
  },
  {
   "cell_type": "code",
   "execution_count": 16,
   "outputs": [
    {
     "name": "stdout",
     "output_type": "stream",
     "text": [
      "Top 20 Roget nodes by centrality measure:\n",
      "Closeness Centrality:\n",
      "1         inutility       - 0.000496\n",
      "2           store         - 0.000491\n",
      "3          neglect        - 0.000490\n",
      "4       deterioration     - 0.000490\n",
      "5           truth         - 0.000489\n",
      "6        unimportance     - 0.000489\n",
      "7        unconformity     - 0.000488\n",
      "8          support        - 0.000487\n",
      "9         indication      - 0.000484\n",
      "10        inactivity      - 0.000484\n",
      "11        deception       - 0.000482\n",
      "12         activity       - 0.000481\n",
      "13           aid          - 0.000481\n",
      "14        restraint       - 0.000481\n",
      "15           care         - 0.000480\n",
      "16          skill         - 0.000478\n",
      "17       information      - 0.000477\n",
      "18       preparation      - 0.000477\n",
      "19           plan         - 0.000475\n",
      "20        hindrance       - 0.000475\n",
      "21     pleasurableness    - 0.000475\n",
      "22         violence       - 0.000475\n",
      "\n",
      "Nearness Centrality:\n",
      "1         inutility       - 540.250000\n",
      "2          neglect        - 533.500000\n",
      "3       deterioration     - 533.166667\n",
      "4           truth         - 529.750000\n",
      "5           store         - 527.500000\n",
      "6        unimportance     - 525.666667\n",
      "7         indication      - 525.416667\n",
      "8          support        - 524.416667\n",
      "9         inactivity      - 523.166667\n",
      "10         activity       - 523.000000\n",
      "11        deception       - 522.750000\n",
      "12           aid          - 521.000000\n",
      "13       unconformity     - 520.916667\n",
      "14        restraint       - 516.166667\n",
      "15           care         - 516.000000\n",
      "16       information      - 514.750000\n",
      "17        obstinacy       - 514.583333\n",
      "18          skill         - 514.500000\n",
      "19     pleasurableness    - 513.666667\n",
      "20       uncertainty      - 512.916667\n",
      "\n",
      "Degree Centrality:\n",
      "1         inutility       - 145\n",
      "2       deterioration     - 136\n",
      "3          neglect        - 135\n",
      "4           truth         - 128\n",
      "5         indication      - 123\n",
      "6          activity       - 123\n",
      "7         deception       - 121\n",
      "8         inactivity      - 119\n",
      "9         obstinacy       - 118\n",
      "10          store         - 117\n",
      "11       unimportance     - 117\n",
      "12         support        - 116\n",
      "13           aid          - 116\n",
      "14       destruction      - 110\n",
      "15       uncertainty      - 109\n",
      "16     pleasurableness    - 109\n",
      "17       information      - 108\n",
      "18           care         - 105\n",
      "19          error         - 105\n",
      "20          skill         - 105\n",
      "21        restraint       - 105\n",
      "22       unconformity     - 104\n",
      "23           plan         - 103\n",
      "24       preparation      - 103\n",
      "25       imagination      - 101\n",
      "26         goodness       - 101\n",
      "27        hindrance       - 100\n",
      "28        attention       - 99\n",
      "29      unskilfulness     - 99\n",
      "30       painfulness      - 99\n",
      "31         disorder       - 97\n",
      "\n",
      "Adjacency Centrality:\n",
      "1         indication      - 0.475471\n",
      "2       deterioration     - 0.449048\n",
      "3         inutility       - 0.445885\n",
      "4           store         - 0.444032\n",
      "5          neglect        - 0.435536\n",
      "6           truth         - 0.414103\n",
      "7          support        - 0.411004\n",
      "8      pleasurableness    - 0.399331\n",
      "9         obstinacy       - 0.397349\n",
      "10       unconformity     - 0.393781\n",
      "11        inactivity      - 0.390350\n",
      "12           aid          - 0.383334\n",
      "13         activity       - 0.374952\n",
      "14        deception       - 0.371350\n",
      "15       information      - 0.366060\n",
      "16       destruction      - 0.361983\n",
      "17        restraint       - 0.361784\n",
      "18       unimportance     - 0.360322\n",
      "19       painfulness      - 0.357291\n",
      "20         junction       - 0.347242\n",
      "\n"
     ]
    }
   ],
   "source": [
    "print(f\"Top 20 Roget nodes by centrality measure:\\n\"\n",
    "      f\"{format_centralities(*centralities_roget)}\")"
   ],
   "metadata": {
    "collapsed": false,
    "pycharm": {
     "name": "#%%\n"
    }
   }
  },
  {
   "cell_type": "markdown",
   "source": [
    "Finally, do the same for the CCSB-Y2H network..."
   ],
   "metadata": {
    "collapsed": false
   }
  },
  {
   "cell_type": "code",
   "execution_count": 17,
   "outputs": [
    {
     "name": "stderr",
     "output_type": "stream",
     "text": [
      "100%|██████████| 1278/1278 [00:00<00:00, 425929.32it/s]"
     ]
    },
    {
     "name": "stdout",
     "output_type": "stream",
     "text": [
      "CCSB-Y2H Network largest connected component size: 964/1278\n"
     ]
    },
    {
     "name": "stderr",
     "output_type": "stream",
     "text": [
      "\n"
     ]
    }
   ],
   "source": [
    "lcc_ccsb = compute_largest_connected_component(ccsb_y2h_network)\n",
    "print(f\"CCSB-Y2H Network largest connected component size: \"\n",
    "      f\"{len(lcc_ccsb)}/{len(ccsb_y2h_network)}\")"
   ],
   "metadata": {
    "collapsed": false,
    "pycharm": {
     "name": "#%%\n"
    }
   }
  },
  {
   "cell_type": "code",
   "execution_count": 18,
   "outputs": [
    {
     "name": "stderr",
     "output_type": "stream",
     "text": [
      "100%|██████████| 1278/1278 [00:00<00:00, 425963.17it/s]\n"
     ]
    }
   ],
   "source": [
    "lcn_ccsb = keep_nodes(ccsb_y2h_network, lcc_ccsb)"
   ],
   "metadata": {
    "collapsed": false,
    "pycharm": {
     "name": "#%%\n"
    }
   }
  },
  {
   "cell_type": "code",
   "execution_count": 19,
   "outputs": [
    {
     "name": "stderr",
     "output_type": "stream",
     "text": [
      "100%|██████████| 964/964 [00:01<00:00, 729.20it/s]\n"
     ]
    }
   ],
   "source": [
    "centralities_ccsb = compute_centralities(lcn_ccsb)"
   ],
   "metadata": {
    "collapsed": false,
    "pycharm": {
     "name": "#%%\n"
    }
   }
  },
  {
   "cell_type": "code",
   "execution_count": 20,
   "outputs": [
    {
     "name": "stdout",
     "output_type": "stream",
     "text": [
      "Top 20 CCSB-Y2H nodes by centrality measure:\n",
      "Closeness Centrality:\n",
      "1          YLR291C        - 0.000336\n",
      "2          YBR261C        - 0.000297\n",
      "3          YPL070W        - 0.000295\n",
      "4          YCL028W        - 0.000292\n",
      "5          YPL049C        - 0.000289\n",
      "6          YLR423C        - 0.000289\n",
      "7          YNL044W        - 0.000283\n",
      "8          YHR113W        - 0.000282\n",
      "9          YOR284W        - 0.000282\n",
      "10         YLR245C        - 0.000280\n",
      "11         YBR080C        - 0.000279\n",
      "12         YPL088W        - 0.000278\n",
      "13         YGR267C        - 0.000277\n",
      "14         YHL018W        - 0.000277\n",
      "15         YBR233W        - 0.000276\n",
      "16         YMR095C        - 0.000276\n",
      "17         YDR256C        - 0.000276\n",
      "18         YOR095C        - 0.000275\n",
      "19         YHR112C        - 0.000275\n",
      "20         YKR034W        - 0.000275\n",
      "21         YGL153W        - 0.000275\n",
      "22         YDL239C        - 0.000274\n",
      "\n",
      "Nearness Centrality:\n",
      "1          YLR291C        - 384.588095\n",
      "2          YLR423C        - 327.497619\n",
      "3          YBR261C        - 325.109524\n",
      "4          YPL070W        - 315.909127\n",
      "5          YPL049C        - 310.278175\n",
      "6          YCL028W        - 305.276190\n",
      "7          YHR113W        - 297.761508\n",
      "8          YDR510W        - 296.621429\n",
      "9          YNL044W        - 296.461508\n",
      "10         YOR284W        - 293.916270\n",
      "11         YKR034W        - 293.806746\n",
      "12         YLR245C        - 291.494841\n",
      "13         YDL239C        - 290.905556\n",
      "14         YGL153W        - 289.504365\n",
      "15         YPL088W        - 289.444841\n",
      "16         YBR080C        - 288.868651\n",
      "17         YNL229C        - 287.823413\n",
      "18         YHL018W        - 287.761508\n",
      "19         YMR095C        - 287.444841\n",
      "20         YOL034W        - 287.344841\n",
      "\n",
      "Degree Centrality:\n",
      "1          YLR291C        - 85\n",
      "2          YLR423C        - 57\n",
      "3          YIR038C        - 50\n",
      "4          YBR261C        - 42\n",
      "5          YDR510W        - 39\n",
      "6          YDR479C        - 36\n",
      "7          YDR100W        - 29\n",
      "8          YML051W        - 29\n",
      "9          YPL094C        - 27\n",
      "10         YPL049C        - 26\n",
      "11         YPL070W        - 26\n",
      "12         YAR027W        - 24\n",
      "13         YNL189W        - 22\n",
      "14         YDL100C        - 22\n",
      "15         YDR448W        - 21\n",
      "16         YCR106W        - 20\n",
      "17         YKR034W        - 18\n",
      "18         YIR033W        - 17\n",
      "19         YML029W        - 16\n",
      "20         YHR113W        - 15\n",
      "21         YCR086W        - 14\n",
      "22         YER125W        - 14\n",
      "23         YCL028W        - 13\n",
      "24         YPL004C        - 13\n",
      "25         YKL103C        - 13\n",
      "26         YGL153W        - 12\n",
      "\n",
      "Adjacency Centrality:\n",
      "1          YIR038C        - 0.892841\n",
      "2          YCR106W        - 0.891775\n",
      "3          YLR423C        - 0.869969\n",
      "4          YLR291C        - 0.869195\n",
      "5          YML051W        - 0.868034\n",
      "6          YDR510W        - 0.857940\n",
      "7          YDL100C        - 0.834135\n",
      "8          YDR479C        - 0.791636\n",
      "9          YPL094C        - 0.770372\n",
      "10         YBR261C        - 0.743393\n",
      "11         YPL004C        - 0.723343\n",
      "12         YMR070W        - 0.722222\n",
      "13         YDR100W        - 0.684973\n",
      "14         YAR027W        - 0.663915\n",
      "15         YER125W        - 0.633310\n",
      "16         YIR033W        - 0.629355\n",
      "17         YDR448W        - 0.622303\n",
      "18         YKL117W        - 0.615079\n",
      "19         YML029W        - 0.612042\n",
      "20         YJL019W        - 0.611084\n",
      "\n"
     ]
    }
   ],
   "source": [
    "print(f\"Top 20 CCSB-Y2H nodes by centrality measure:\\n\"\n",
    "      f\"{format_centralities(*centralities_ccsb)}\")"
   ],
   "metadata": {
    "collapsed": false,
    "pycharm": {
     "name": "#%%\n"
    }
   }
  },
  {
   "cell_type": "markdown",
   "source": [
    "## Comments on findings\n",
    "\n",
    "### Closeness Centrality vs Nearness Centrality\n",
    "\n",
    "### Degree Centrality Adjacency Centrality"
   ],
   "metadata": {
    "collapsed": false,
    "pycharm": {
     "name": "#%% md\n"
    }
   }
  }
 ],
 "metadata": {
  "kernelspec": {
   "display_name": "Python 3",
   "language": "python",
   "name": "python3"
  },
  "language_info": {
   "codemirror_mode": {
    "name": "ipython",
    "version": 3
   },
   "file_extension": ".py",
   "mimetype": "text/x-python",
   "name": "python",
   "nbconvert_exporter": "python",
   "pygments_lexer": "ipython3",
   "version": "3.7.4"
  }
 },
 "nbformat": 4,
 "nbformat_minor": 2
}